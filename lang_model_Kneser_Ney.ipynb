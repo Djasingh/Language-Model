{
 "cells": [
  {
   "cell_type": "markdown",
   "metadata": {},
   "source": [
    "<h1> Language Model with Kneser Ney Smoothing For trigrams only</h1>"
   ]
  },
  {
   "cell_type": "markdown",
   "metadata": {},
   "source": [
    "<p> <code>Note:<code> If any changes you make in <code>language_model.ipynb<code>. \n",
    "In order to changes to reflect in this or any notebook that imported the file <code>language_model.ipynb<code>, \n",
    "you must restart the Kernel from the Kernel Tab Available above.<\\p>"
   ]
  },
  {
   "cell_type": "code",
   "execution_count": 1,
   "metadata": {},
   "outputs": [],
   "source": [
    "%%capture\n",
    "import import_ipynb\n",
    "from language_model import *"
   ]
  },
  {
   "cell_type": "code",
   "execution_count": 2,
   "metadata": {},
   "outputs": [],
   "source": [
    "def ngram_freq_dist(corpus):\n",
    "    freq_dist = freq_3gram = nltk.FreqDist(ngrams(corpus,3))\n",
    "    return freq_dist"
   ]
  },
  {
   "cell_type": "code",
   "execution_count": 3,
   "metadata": {},
   "outputs": [],
   "source": [
    "def trigram_prob(w1, w2, w3, prob_3gram):\n",
    "    if prob_3gram is not None:\n",
    "        #cprob_3gram=nltk.ConditionalProbDist(cfreq_3gram, nltk.MLEProbDist)\n",
    "        prob=prob_3gram.prob((w1, w2, w3))\n",
    "    else:\n",
    "        print('Probablity distribution is not available')\n",
    "    return prob"
   ]
  },
  {
   "cell_type": "code",
   "execution_count": 4,
   "metadata": {},
   "outputs": [],
   "source": [
    "def entropy(pd, text):\n",
    "    ngram=3\n",
    "    test_corpus = text\n",
    "    e = 0.0\n",
    "    for i in range(ngram - 1, len(test_corpus)):\n",
    "        context = test_corpus[i - ngram + 1:i]\n",
    "        word = test_corpus[i]\n",
    "        #print(str(context)+\"    \"+token)\n",
    "        e += logprob(word, context, pd)\n",
    "    return e / float(len(text) - (ngram - 1))"
   ]
  },
  {
   "cell_type": "code",
   "execution_count": 5,
   "metadata": {},
   "outputs": [],
   "source": [
    "def logprob(word, context, pd):\n",
    "    p=trigram_prob(context[0], context[1], word, pd)\n",
    "    try:\n",
    "        val=-p*log(p , 2)\n",
    "    except ValueError:\n",
    "        val=0.0\n",
    "    return val"
   ]
  },
  {
   "cell_type": "code",
   "execution_count": 6,
   "metadata": {},
   "outputs": [],
   "source": [
    "def perplexity(pd, text):\n",
    "    test_corpus=text\n",
    "    ent=entropy(pd, text)\n",
    "    #print(ent)\n",
    "    return pow(2.0, ent)"
   ]
  },
  {
   "cell_type": "code",
   "execution_count": 15,
   "metadata": {},
   "outputs": [],
   "source": [
    "def find_sent_prob(sent, pd):\n",
    "    total_prob=1\n",
    "    for w1, w2, w3 in nltk.ngrams(nltk.word_tokenize(sent),3):\n",
    "        #print(w1,w2,w3,trigram_prob(w1, w2, w3, pd))\n",
    "        total_prob *= (trigram_prob(w1, w2, w3, pd))\n",
    "    return total_prob"
   ]
  },
  {
   "cell_type": "markdown",
   "metadata": {},
   "source": [
    "<h3>Wikipedia articles Extraction</h3>"
   ]
  },
  {
   "cell_type": "code",
   "execution_count": 37,
   "metadata": {},
   "outputs": [],
   "source": [
    "filenames=read_filename('./wikipedia/', 100)\n",
    "\n",
    "sents=create_tokens(filenames)\n",
    "\n",
    "train_corpus, test_corpus=train_test_split(sents)"
   ]
  },
  {
   "cell_type": "code",
   "execution_count": 38,
   "metadata": {},
   "outputs": [],
   "source": [
    "#train_corpus"
   ]
  },
  {
   "cell_type": "markdown",
   "metadata": {},
   "source": [
    "<h3>Probality distribution with Kneser ney smoothing</h3>"
   ]
  },
  {
   "cell_type": "code",
   "execution_count": 39,
   "metadata": {},
   "outputs": [
    {
     "data": {
      "text/plain": [
       "100"
      ]
     },
     "execution_count": 39,
     "metadata": {},
     "output_type": "execute_result"
    }
   ],
   "source": [
    "len(filenames)"
   ]
  },
  {
   "cell_type": "code",
   "execution_count": 40,
   "metadata": {},
   "outputs": [],
   "source": [
    "fd_3gram=ngram_freq_dist(train_corpus)\n",
    "prob_3gram_kn=nltk.KneserNeyProbDist(fd_3gram) #probality distribution with Kneser ney smoothing"
   ]
  },
  {
   "cell_type": "markdown",
   "metadata": {},
   "source": [
    "<h3>Model Evalution</h3>"
   ]
  },
  {
   "cell_type": "code",
   "execution_count": 41,
   "metadata": {},
   "outputs": [
    {
     "name": "stdout",
     "output_type": "stream",
     "text": [
      "0.04582679676547\n",
      "1.0322745979724037\n",
      "0.09323432343234324\n"
     ]
    }
   ],
   "source": [
    "print(entropy(prob_3gram_kn, test_corpus))\n",
    "print(perplexity(prob_3gram_kn, test_corpus))\n",
    "print(find_sent_prob('the united nations', prob_3gram_kn))"
   ]
  },
  {
   "cell_type": "markdown",
   "metadata": {},
   "source": [
    "<h3>Brown corpus</h3>"
   ]
  },
  {
   "cell_type": "code",
   "execution_count": 42,
   "metadata": {},
   "outputs": [],
   "source": [
    "all_categories_text=brown_corpus_categories_text()"
   ]
  },
  {
   "cell_type": "code",
   "execution_count": 43,
   "metadata": {},
   "outputs": [],
   "source": [
    "sents=create_tokens(all_categories_text)\n",
    "train_corpus, test_corpus=train_test_split(sents)"
   ]
  },
  {
   "cell_type": "code",
   "execution_count": 44,
   "metadata": {},
   "outputs": [],
   "source": [
    "#train_corpus"
   ]
  },
  {
   "cell_type": "code",
   "execution_count": 45,
   "metadata": {},
   "outputs": [],
   "source": [
    "fd_3gram=ngram_freq_dist(train_corpus)\n",
    "prob_3gram_kn=nltk.KneserNeyProbDist(fd_3gram) #probality distribution with Kneser ney smoothing"
   ]
  },
  {
   "cell_type": "code",
   "execution_count": 46,
   "metadata": {},
   "outputs": [
    {
     "name": "stdout",
     "output_type": "stream",
     "text": [
      "0.06477206784606931\n",
      "1.0459196813335965\n",
      "0.10889175257731959\n"
     ]
    }
   ],
   "source": [
    "print(entropy(prob_3gram_kn, test_corpus))\n",
    "print(perplexity(prob_3gram_kn, test_corpus))\n",
    "print(find_sent_prob('the united nations',prob_3gram_kn))"
   ]
  },
  {
   "cell_type": "code",
   "execution_count": null,
   "metadata": {},
   "outputs": [],
   "source": []
  }
 ],
 "metadata": {
  "kernelspec": {
   "display_name": "Python 3",
   "language": "python",
   "name": "python3"
  },
  "language_info": {
   "codemirror_mode": {
    "name": "ipython",
    "version": 3
   },
   "file_extension": ".py",
   "mimetype": "text/x-python",
   "name": "python",
   "nbconvert_exporter": "python",
   "pygments_lexer": "ipython3",
   "version": "3.6.9"
  }
 },
 "nbformat": 4,
 "nbformat_minor": 4
}
