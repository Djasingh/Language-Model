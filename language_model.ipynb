{
 "cells": [
  {
   "cell_type": "markdown",
   "metadata": {},
   "source": [
    "<h1>Language Model Without Smoothing </h1>"
   ]
  },
  {
   "cell_type": "code",
   "execution_count": 37,
   "metadata": {},
   "outputs": [],
   "source": [
    "import nltk\n",
    "import os\n",
    "import string\n",
    "from nltk.util import ngrams\n",
    "from math import log\n",
    "import matplotlib.pyplot as plt\n",
    "%matplotlib inline\n",
    "\n",
    "stopwords=['','(',')','{','}','\\\\','--',':','-',\"'s\"]\n",
    "punct=string.punctuation+\"``\"+\"''\"+'\"'"
   ]
  },
  {
   "cell_type": "code",
   "execution_count": 2,
   "metadata": {},
   "outputs": [],
   "source": [
    "#nltk.corpus.brown.categories() # give the available brown corpus categories \n",
    "#os.listdir(nltk.data.find(\"corpora\"))"
   ]
  },
  {
   "cell_type": "markdown",
   "metadata": {},
   "source": [
    "<h3> NLTK Brown Corpus </h3>\n",
    "<p>Function takes catgories as argument and return pre-processed brown corpus text as string.</p>\n",
    "<p>Inorder to know the available categorise of Brown Corpus type</p><br/>\n",
    "<code>nltk.corpus.brown.categories()</code>"
   ]
  },
  {
   "cell_type": "code",
   "execution_count": 38,
   "metadata": {},
   "outputs": [
    {
     "data": {
      "text/plain": [
       "['adventure',\n",
       " 'belles_lettres',\n",
       " 'editorial',\n",
       " 'fiction',\n",
       " 'government',\n",
       " 'hobbies',\n",
       " 'humor',\n",
       " 'learned',\n",
       " 'lore',\n",
       " 'mystery',\n",
       " 'news',\n",
       " 'religion',\n",
       " 'reviews',\n",
       " 'romance',\n",
       " 'science_fiction']"
      ]
     },
     "execution_count": 38,
     "metadata": {},
     "output_type": "execute_result"
    }
   ],
   "source": [
    "nltk.corpus.brown.categories()"
   ]
  },
  {
   "cell_type": "code",
   "execution_count": 39,
   "metadata": {},
   "outputs": [],
   "source": [
    "def nltk_brown_corpus(category='news'):\n",
    "    sents=[]\n",
    "    sentences=nltk.corpus.brown.sents(categories=category)\n",
    "    for sent in sentences:\n",
    "        sent=\" \".join([word.lower() for word in sent if word not in punct and word not in stopwords])\n",
    "        sents.append(sent)\n",
    "    text=\"\\n\".join(sents)\n",
    "    return text"
   ]
  },
  {
   "cell_type": "code",
   "execution_count": 40,
   "metadata": {},
   "outputs": [],
   "source": [
    "def brown_corpus_categories_text():\n",
    "    text=''\n",
    "    for category in nltk.corpus.brown.categories():\n",
    "        text+= nltk_brown_corpus(category=category)\n",
    "    return text"
   ]
  },
  {
   "cell_type": "code",
   "execution_count": 6,
   "metadata": {},
   "outputs": [],
   "source": [
    "#nltk.corpus.brown.sents(categories='news')"
   ]
  },
  {
   "cell_type": "markdown",
   "metadata": {},
   "source": [
    "<p>The Function takes directory containing files or directly file path as first argument i.e repo. \n",
    "Second parameter specifies number of file to read from directory if <code>repo</code> is assigned with directory, i.e <code>num_articles</code>.\n",
    "By default it is set to 100 files.</p>"
   ]
  },
  {
   "cell_type": "code",
   "execution_count": 41,
   "metadata": {},
   "outputs": [],
   "source": [
    "def read_filename(repo, num_articles=100):\n",
    "    files=[]\n",
    "    if os.path.isfile(repo):\n",
    "        files.append(repo)\n",
    "    elif os.path.isdir(repo):\n",
    "        files= [os.path.join(repo, f) for f in os.listdir(repo)[:num_articles] if os.path.isfile(os.path.join(repo, f))]\n",
    "    else:\n",
    "        print('Provide correct file/directory information')\n",
    "        return\n",
    "    return files  "
   ]
  },
  {
   "cell_type": "markdown",
   "metadata": {},
   "source": [
    "<p>The Function is written to read files available in directory. It will return an iterator over the \n",
    "file contents. </p>"
   ]
  },
  {
   "cell_type": "code",
   "execution_count": 42,
   "metadata": {},
   "outputs": [],
   "source": [
    "def extract_file_content(filenames):\n",
    "    for file in filenames:\n",
    "        with open(file,'r') as fp:\n",
    "            yield fp.read().lower().replace('\\n',' ')"
   ]
  },
  {
   "cell_type": "markdown",
   "metadata": {},
   "source": [
    "<p>The function <code>create_tokens</code> takes as input a list of filenames or plain text and returns list of sentences.\n",
    "    The output <code>sents</code> is a list of lists structure <code>[[], [], ....]</code>. </p>\n",
    "<p>The Input Argument <code> corpus </code> may represent 1) list of filenames or 2) text. \n",
    "Each sentence itself is list of words. </p>\n",
    "<p><code>nltk.sent_tokenize():</code> Return list of sentences from the given file</p>\n",
    "<p><code>nltk.word_tokenize():</code> Return list of words from the given sentence/file </p>"
   ]
  },
  {
   "cell_type": "code",
   "execution_count": 43,
   "metadata": {},
   "outputs": [],
   "source": [
    "def create_tokens(corpus):\n",
    "    sents=[]\n",
    "    if isinstance(corpus, list):\n",
    "        for file_content in extract_file_content(corpus):\n",
    "            for sent in nltk.sent_tokenize(file_content):\n",
    "                token= [word for word in nltk.word_tokenize(sent) if word not in punct and word not in stopwords]\n",
    "                sents.append(token)\n",
    "    elif type(corpus) is str:\n",
    "        for sent in nltk.sent_tokenize(corpus):\n",
    "            token= [word for word in nltk.word_tokenize(sent) if word not in punct and word not in stopwords]\n",
    "            sents.append(token)\n",
    "    else:\n",
    "        print('Corpus problem')      \n",
    "    return sents"
   ]
  },
  {
   "cell_type": "markdown",
   "metadata": {},
   "source": [
    "<p>Split sentences into training and test set based on <code>ratio</code> parameter. \n",
    "By deafult it is set to 99%</p>"
   ]
  },
  {
   "cell_type": "code",
   "execution_count": 44,
   "metadata": {},
   "outputs": [],
   "source": [
    "def train_test_split(sents, ratio=0.99):\n",
    "    if len(sents) > 0:\n",
    "        spl = int(ratio*len(sents))\n",
    "        train_corpus = sents[:spl]\n",
    "        test_corpus = sents[spl:]\n",
    "    else:\n",
    "        print('Corpus not created')\n",
    "    train_corpus = [word for sent in train_corpus for word in sent]\n",
    "    test_corpus = [word for sent in test_corpus for word in sent]\n",
    "    return train_corpus, test_corpus"
   ]
  },
  {
   "cell_type": "code",
   "execution_count": 45,
   "metadata": {},
   "outputs": [],
   "source": [
    "def cross_validation(sents, k=5):\n",
    "    inx=0\n",
    "    fold_size=int(len(sents)/k)\n",
    "    for i in range(1, k+1):\n",
    "        test_sents=sents[inx:inx+fold_size]\n",
    "        train_sents=sents[0:inx]+sents[inx+fold_size:]\n",
    "        inx=i*fold_size\n",
    "        test_sents = [word for sent in test_sents for word in sent]\n",
    "        train_sents = [word for sent in train_sents for word in sent]\n",
    "        yield train_sents, test_sents"
   ]
  },
  {
   "cell_type": "markdown",
   "metadata": {},
   "source": [
    "<p> The Function takes list of words or raw text string as <code>corpus</code>. Based on <code>ngram</code> value \n",
    "given it will return frequency distribution of ngrams.</p>\n",
    "<p><code>nltk.FreqDist:</code> Takes argument as list or list generator and returns dictionary with key as ngrams \n",
    "    and value as frequency.</p>\n",
    "<p><code>nltk.ConditionalFreqDist:</code> Returns dictionary of dictionary(FreqDist) for bigrams. First dictionary \n",
    "contains key as context word and dictionary as value. The value dictionary contains word following the context \n",
    "word as key and frequency as value. </p>\n",
    "<p><b>Example:</b><code>FreqDist(word2|word1)=X</code> is represented as <code>{(word1):{(word2):X}}</code></p> "
   ]
  },
  {
   "cell_type": "code",
   "execution_count": 46,
   "metadata": {},
   "outputs": [],
   "source": [
    "def ngram_freq_dist(corpus, ngram=1):\n",
    "    if isinstance(corpus, list) and len(corpus)>0:\n",
    "        train_corpus=corpus\n",
    "    elif type(corpus) is str:\n",
    "        train_corpus=nltk.word_tokenize(corpus)\n",
    "    else:\n",
    "        print('Error')\n",
    "        return None\n",
    "    \n",
    "    freq_dist=None\n",
    "    if ngram==1:\n",
    "        freq_dist = nltk.FreqDist(train_corpus) #freq distibution for unigrams\n",
    "    elif ngram==2:\n",
    "        freq_dist = nltk.ConditionalFreqDist(nltk.ngrams(train_corpus, 2))# conditional freq dist for bigrams\n",
    "    elif ngram==3:\n",
    "        trigrams_as_bigrams=[]\n",
    "        trigram =[a for a in ngrams(train_corpus, 3)]\n",
    "        trigrams_as_bigrams.extend([((t[0],t[1]), t[2]) for t in trigram])\n",
    "        freq_dist = nltk.ConditionalFreqDist(trigrams_as_bigrams)# conditional freq dist for trigrams\n",
    "    else:\n",
    "        print('Supported upto trigrams only')\n",
    "    return freq_dist"
   ]
  },
  {
   "cell_type": "markdown",
   "metadata": {},
   "source": [
    "<h4>Probablity calculation of ngrams</h4>\n",
    "<p>The function returns probablity of given ngram based on conditional probality distribution \n",
    "<code>cpd_1gram</code>. The conditional probablity distribution is obtained based on \n",
    "conditional frequency distibution. </p>"
   ]
  },
  {
   "cell_type": "code",
   "execution_count": 47,
   "metadata": {},
   "outputs": [],
   "source": [
    "def unigram_prob(word, cpd_1gram):\n",
    "    if cpd_1gram is not None:\n",
    "        return cpd_1gram.prob(word)\n",
    "    else:\n",
    "        print('Probablity distribution is not available')\n",
    "    \n",
    "def conditional_bigram_prob(word1, word2, cprob_2gram):\n",
    "    if cprob_2gram is not None:\n",
    "        #cprob_2gram = nltk.ConditionalProbDist(cfreq_2gram, nltk.MLEProbDist)\n",
    "        cpd=cprob_2gram[word1].prob(word2)\n",
    "    else:\n",
    "        print('Probablity distribution is not available')\n",
    "    return cpd\n",
    "\n",
    "def conditional_trigram_prob(w1, w2, w3, cprob_3gram):\n",
    "    if cprob_3gram is not None:\n",
    "        #cprob_3gram=nltk.ConditionalProbDist(cfreq_3gram, nltk.MLEProbDist)\n",
    "        cprob_3gram=cprob_3gram[(w1, w2)].prob(w3)\n",
    "    else:\n",
    "        print('Probablity distribution is not available')\n",
    "    return cprob_3gram"
   ]
  },
  {
   "cell_type": "markdown",
   "metadata": {},
   "source": [
    "<h4>Find probable words given context word using bigram and trigram model </h4>\n",
    "<p>The function takes <code>sequence</code>. Extract context word given <code>ngram</code> and return \n",
    "probable words appearing after context word. Also plot bar graph for top most following <code>num</code> \n",
    "words showing their frequency </p>"
   ]
  },
  {
   "cell_type": "code",
   "execution_count": 48,
   "metadata": {},
   "outputs": [],
   "source": [
    "def probable_words(sequence, cpd, ngram=2, num=10):\n",
    "    context=nltk.word_tokenize(sequence)\n",
    "    temp=[]\n",
    "    if ngram==2 and len(cpd) > 0:\n",
    "        context_word=context[-1:]\n",
    "        #cpd = nltk.ConditionalProbDist(cfd, nltk.MLEProbDist)\n",
    "        fd=cpd[context_word[0]].freqdist() # Gives dictionary which shows following words and their frequency given \n",
    "        # context_word[0]\n",
    "        if len(fd) > 0:\n",
    "            for i, item in enumerate(reversed(sorted(fd.items(), key=lambda item: item[1]))):\n",
    "                temp.append(item)\n",
    "                if i > num:\n",
    "                    break\n",
    "        else:\n",
    "            print('No probable words available in corpus following the last word')\n",
    "    elif ngram==3 and len(cpd) > 0:\n",
    "        context_word=context[-2:]\n",
    "        #cpd = nltk.ConditionalProbDist(cfd, nltk.MLEProbDist)\n",
    "        fd=cpd[(context_word[0],context_word[1])].freqdist() \n",
    "        if len(fd) > 0:\n",
    "            for i, item in enumerate(reversed(sorted(fd.items(), key=lambda item: item[1]))):\n",
    "                temp.append(item)\n",
    "                if i > num:\n",
    "                    break\n",
    "        else:\n",
    "            print('No probable words available in corpus following the last word')\n",
    "        \n",
    "    else:\n",
    "        print('Support only for bigrams and trigrams')\n",
    "    if len(temp) > 0:\n",
    "        probable_word_plot(temp, \" \".join(context_word), num)\n",
    "    return temp"
   ]
  },
  {
   "cell_type": "markdown",
   "metadata": {},
   "source": [
    "<h4>Function Plot the probable words given context word/s </h4>"
   ]
  },
  {
   "cell_type": "code",
   "execution_count": 49,
   "metadata": {},
   "outputs": [],
   "source": [
    "def probable_word_plot(freq_dist, context='', num=10):\n",
    "    words=[]\n",
    "    values=[]\n",
    "    if len(freq_dist) > num:\n",
    "        for a in freq_dist[:num]:\n",
    "            words.append(a[0])\n",
    "            values.append(a[1])\n",
    "    else:\n",
    "        for a in freq_dist:\n",
    "            words.append(a[0])\n",
    "            values.append(a[1])\n",
    "    plt.rcParams['figure.figsize'] = (15,6)\n",
    "    plt.rcParams['font.size'] = 10\n",
    "    plt.bar(words, values, width=0.10)\n",
    "    plt.title('Probable Words given context: \"{0}\"'.format(context))\n",
    "    plt.xlabel('Probable Words')\n",
    "    plt.ylabel('Frequency')\n",
    "    plt.show()\n",
    "    return"
   ]
  },
  {
   "cell_type": "markdown",
   "metadata": {},
   "source": [
    "<h4>Find Sequence Probablity with ngrams model </h4><br>\n",
    "The function given the arguments sequence <code> seq </code>, conditional probality distribution\n",
    "<code> pd</code> and <code> ngram </code> returns the probality of the sentence."
   ]
  },
  {
   "cell_type": "code",
   "execution_count": 50,
   "metadata": {},
   "outputs": [],
   "source": [
    "def find_sent_prob(seq, pd1=None, pd2=None, pd3=None, ngram=1):\n",
    "        words=nltk.word_tokenize(seq)\n",
    "        total_prob=1.0\n",
    "        if ngram==1 and pd1 is not None:\n",
    "            for word in nltk.word_tokenize(seq):\n",
    "                total_prob *= (unigram_prob(word, pd1))\n",
    "            return total_prob\n",
    "        elif ngram==2 and pd1 is not None and pd2 is not None:\n",
    "            total_prob *= unigram_prob(words[0], pd1)\n",
    "            for w1, w2 in nltk.ngrams(words, 2):\n",
    "                total_prob *= (conditional_bigram_prob(w1, w2, pd2))\n",
    "        elif ngram==3 and pd1 is not None and pd2 is not None and pd3 is not None:\n",
    "            total_prob *= unigram_prob(words[0], pd1) * conditional_bigram_prob(words[0], words[1], pd2)\n",
    "            for w1, w2, w3 in nltk.ngrams(words,3):\n",
    "                total_prob *= (conditional_trigram_prob(w1, w2, w3, pd3))\n",
    "        else:\n",
    "            print('Check the arguments')\n",
    "            total_prob=0.0\n",
    "        return total_prob"
   ]
  },
  {
   "cell_type": "markdown",
   "metadata": {},
   "source": [
    "<h3> Generate Text Given Seed Word with bigram and trigram model</h3>\n",
    "<p> Generate sentence given the seed word/context <code>intialword</code> ,conditional probality distribution \n",
    "model <code>cprog_2gram</code> and sentence length <code>numwords</code>."
   ]
  },
  {
   "cell_type": "code",
   "execution_count": 51,
   "metadata": {},
   "outputs": [],
   "source": [
    "def generate_txt_bigram_model(cprob_2gram, initialword, numwords=10):\n",
    "    #cprob_2gram = nltk.ConditionalProbDist(cfreq_2gram, nltk.MLEProbDist)\n",
    "    text=initialword\n",
    "    word=initialword\n",
    "    for index in range(numwords):\n",
    "        try:\n",
    "            word = cprob_2gram[word].generate()\n",
    "            text=text +\" \"+word\n",
    "        except Exception as e:\n",
    "            print('Can not generate the sentence')\n",
    "            return\n",
    "    return text"
   ]
  },
  {
   "cell_type": "code",
   "execution_count": 52,
   "metadata": {},
   "outputs": [],
   "source": [
    "def generate_txt_trigram_model(cprob_3gram, initialword1, initialword2, numwords=10):\n",
    "    #cprob_3gram = nltk.ConditionalProbDist(cfreq_3gram, nltk.MLEProbDist)\n",
    "    text=initialword1+\" \"+initialword2\n",
    "    word1=initialword1\n",
    "    word2=initialword2\n",
    "    for index in range(numwords):\n",
    "        try:\n",
    "            word3=cprob_3gram[(word1, word2)].generate()\n",
    "            text=text +\" \"+word3\n",
    "            word1=word2\n",
    "            word2=word3\n",
    "        except Exception as e:\n",
    "            print('Can not generate the sentence')\n",
    "            return\n",
    "    return text"
   ]
  },
  {
   "cell_type": "markdown",
   "metadata": {},
   "source": [
    "<h2>Evaluation with perplexity and cross entropy</h2>\n",
    "<p>The selected corpus is split into training corpus and test corpus. The ngram model is trained on the training\n",
    "corpus and then entropy and perplexity evaluation measure is obtained with the test corpus.</p>\n",
    "<h3> Entropy Calculation:</h3>\n",
    "\\begin{align*}\n",
    "H(ngrams)=-\\Sigma_{x \\in ngrams} p(x)\\log(p(x))\n",
    "\\end{align*}"
   ]
  },
  {
   "cell_type": "markdown",
   "metadata": {},
   "source": [
    "<h3> Below Function provides entropy per ngrams </h3>"
   ]
  },
  {
   "cell_type": "code",
   "execution_count": 53,
   "metadata": {},
   "outputs": [],
   "source": [
    "def entropy(pd, text, ngram):\n",
    "    test_corpus = text\n",
    "    e = 0.0\n",
    "    for i in range(ngram - 1, len(test_corpus)):\n",
    "        context = test_corpus[i - ngram + 1:i]\n",
    "        word = test_corpus[i]\n",
    "        #print(str(context)+\"    \"+token)\n",
    "        e += logprob(word, context, pd)\n",
    "    #retrun e\n",
    "    return e / float(len(text) - (ngram - 1))"
   ]
  },
  {
   "cell_type": "code",
   "execution_count": 54,
   "metadata": {},
   "outputs": [],
   "source": [
    "def logprob(word, context, pd):\n",
    "    if len(context)==0:\n",
    "        p=unigram_prob(word,pd)\n",
    "    elif len(context)==1:\n",
    "        p=conditional_bigram_prob(context[0], word, pd)\n",
    "    else:\n",
    "        p=conditional_trigram_prob(context[0], context[1], word, pd)\n",
    "    try:\n",
    "        val=-p*log(p , 2)\n",
    "    except ValueError:\n",
    "        val=0.0\n",
    "    return val\n",
    "\n",
    "#logprob('at', ['smile'])"
   ]
  },
  {
   "cell_type": "code",
   "execution_count": 55,
   "metadata": {},
   "outputs": [],
   "source": [
    "def perplexity(pd, text, ngram):\n",
    "    test_corpus=text\n",
    "    ent=entropy(pd, text, ngram)\n",
    "    #print(ent)\n",
    "    return pow(2.0, ent)"
   ]
  },
  {
   "cell_type": "markdown",
   "metadata": {},
   "source": [
    "<h2>Wikipedia articles as corpus for language model</h2>"
   ]
  },
  {
   "cell_type": "markdown",
   "metadata": {},
   "source": [
    "<p> Calling <code>read_filename()</code> function with directory <code>'./wikipedia/'</code> containing \n",
    "wikipedia articles and with other argument denoting number of articles to fetch from the directory.</p>"
   ]
  },
  {
   "cell_type": "code",
   "execution_count": 56,
   "metadata": {},
   "outputs": [],
   "source": [
    "filenames=read_filename('./wikipedia/', 500)"
   ]
  },
  {
   "cell_type": "code",
   "execution_count": 57,
   "metadata": {},
   "outputs": [],
   "source": [
    "sents=create_tokens(filenames)"
   ]
  },
  {
   "cell_type": "code",
   "execution_count": 58,
   "metadata": {},
   "outputs": [],
   "source": [
    "train_corpus, test_corpus=train_test_split(sents)"
   ]
  },
  {
   "cell_type": "markdown",
   "metadata": {},
   "source": [
    "<h2>Maximum Likelihood Estimation</h2>\n",
    "<p> <code>ConditionalFreqDist:</code> Conditional frequency distributions are used to record the number of times\n",
    "each word occurred, given the context word and it takes list of bigrams or list generator as argument and \n",
    "returns dictionary of dictionary.</p>\n",
    "<p><code>ConditionalProbDist</code>:A ConditionalProbDist is constructed from two arguments \n",
    "    i.e \"ConditionalFreqDist\" and a \"ProbDist\" factory."
   ]
  },
  {
   "cell_type": "markdown",
   "metadata": {},
   "source": [
    "<h3>Obtaining probality distribution for Unigrams</h3>"
   ]
  },
  {
   "cell_type": "code",
   "execution_count": 59,
   "metadata": {},
   "outputs": [],
   "source": [
    "fd_1gram=ngram_freq_dist(train_corpus, ngram=1)\n",
    "cpd_1gram=nltk.MLEProbDist(fd_1gram)"
   ]
  },
  {
   "cell_type": "markdown",
   "metadata": {},
   "source": [
    "<h3>Obtaining Conditional probality distribution for Bigrams</h3>"
   ]
  },
  {
   "cell_type": "code",
   "execution_count": 65,
   "metadata": {},
   "outputs": [],
   "source": [
    "freq_dist2=ngram_freq_dist(train_corpus, 2)"
   ]
  },
  {
   "cell_type": "code",
   "execution_count": 69,
   "metadata": {},
   "outputs": [
    {
     "data": {
      "text/plain": [
       "FreqDist({'and': 37, 'the': 18, 'in': 16, 'to': 8, 'security': 8, 'of': 7, 'conference': 7, 'general': 6, 'are': 6, 'charter': 6, ...})"
      ]
     },
     "execution_count": 69,
     "metadata": {},
     "output_type": "execute_result"
    }
   ],
   "source": [
    "freq_dist2[\"nations\"]"
   ]
  },
  {
   "cell_type": "code",
   "execution_count": 23,
   "metadata": {},
   "outputs": [],
   "source": [
    "cfd_2gram=ngram_freq_dist(train_corpus, ngram=2) #conditional frequency distribution for bigrams\n",
    "cpd_2gram = nltk.ConditionalProbDist(cfd_2gram, nltk.MLEProbDist) # conditional probality distribution for bigrams"
   ]
  },
  {
   "cell_type": "markdown",
   "metadata": {},
   "source": [
    "<h3>Obtaining Conditional probality distribution for Trigrams</h3>"
   ]
  },
  {
   "cell_type": "code",
   "execution_count": 24,
   "metadata": {},
   "outputs": [],
   "source": [
    "cfd_3gram=ngram_freq_dist(train_corpus, ngram=3)\n",
    "cpd_3gram = nltk.ConditionalProbDist(cfd_3gram, nltk.MLEProbDist)"
   ]
  },
  {
   "cell_type": "markdown",
   "metadata": {},
   "source": [
    "<p>The graph showing probable words and their frequency given context word <code>organization</code>"
   ]
  },
  {
   "cell_type": "code",
   "execution_count": 25,
   "metadata": {},
   "outputs": [
    {
     "data": {
      "image/png": "[encoded data removed]",
      "text/plain": [
       "<Figure size 1080x432 with 1 Axes>"
      ]
     },
     "metadata": {
      "needs_background": "light"
     },
     "output_type": "display_data"
    }
   ],
   "source": [
    "pws_2gram=probable_words('the world health organization', cpd_2gram, 2)\n",
    "#probable words extraction givent context word"
   ]
  },
  {
   "cell_type": "code",
   "execution_count": 26,
   "metadata": {},
   "outputs": [
    {
     "data": {
      "image/png": "[encoded data removed]",
      "text/plain": [
       "<Figure size 1080x432 with 1 Axes>"
      ]
     },
     "metadata": {
      "needs_background": "light"
     },
     "output_type": "display_data"
    }
   ],
   "source": [
    "pws_3gram=probable_words('the world', cpd_3gram, 3)\n",
    "#probable words with trigram model for context word \"the world\""
   ]
  },
  {
   "cell_type": "code",
   "execution_count": 30,
   "metadata": {},
   "outputs": [
    {
     "data": {
      "text/plain": [
       "[('in', 33),\n",
       " ('and', 33),\n",
       " ('largest', 25),\n",
       " ('the', 22),\n",
       " ('to', 18),\n",
       " ('bank', 18),\n",
       " ('of', 16),\n",
       " ('is', 15),\n",
       " ('turns', 14),\n",
       " ('2012', 13),\n",
       " ('at', 13),\n",
       " ('with', 13)]"
      ]
     },
     "execution_count": 30,
     "metadata": {},
     "output_type": "execute_result"
    }
   ],
   "source": [
    "pws_3gram"
   ]
  },
  {
   "cell_type": "code",
   "execution_count": 28,
   "metadata": {},
   "outputs": [],
   "source": [
    "test_sent1='iran has an embassy in baku'\n",
    "test_sent2='iran embassy has an in baku'"
   ]
  },
  {
   "cell_type": "markdown",
   "metadata": {},
   "source": [
    "<h3> Obtaining probablity of the sentence with ngrams model</h3>"
   ]
  },
  {
   "cell_type": "markdown",
   "metadata": {},
   "source": [
    "<p>With unigram you only need to pass Unigram probality distribution</p>"
   ]
  },
  {
   "cell_type": "code",
   "execution_count": 29,
   "metadata": {},
   "outputs": [
    {
     "name": "stdout",
     "output_type": "stream",
     "text": [
      "1.3341405913030257e-19\n"
     ]
    }
   ],
   "source": [
    "prob_1gram=find_sent_prob(test_sent2, cpd_1gram, ngram=1)\n",
    "print(prob_1gram)"
   ]
  },
  {
   "cell_type": "markdown",
   "metadata": {},
   "source": [
    "<p>With Bigram you need to pass both unigram probality distribution and Bigram Probality distribution. It is necessary \n",
    "to assign the ngram parameter as <code>ngarm=2</code> for bigram and <code>ngarm=3</code> for trigram with the argument \n",
    "name, otherwise it will take default as <code>ngram=1</code>.</p> "
   ]
  },
  {
   "cell_type": "code",
   "execution_count": 30,
   "metadata": {},
   "outputs": [
    {
     "name": "stdout",
     "output_type": "stream",
     "text": [
      "1.505922054637323e-11\n"
     ]
    }
   ],
   "source": [
    "prob_2gram=find_sent_prob(test_sent1, cpd_1gram, cpd_2gram, ngram=2)\n",
    "print(prob_2gram)"
   ]
  },
  {
   "cell_type": "markdown",
   "metadata": {},
   "source": [
    "<p>With trigram you need to pass unigram probality distribution , Bigram Probality distribution and trigram \n",
    "probality distribution</p>"
   ]
  },
  {
   "cell_type": "code",
   "execution_count": 31,
   "metadata": {},
   "outputs": [
    {
     "name": "stdout",
     "output_type": "stream",
     "text": [
      "8.06570607339536e-08\n"
     ]
    }
   ],
   "source": [
    "prob_3gram=find_sent_prob(test_sent1, cpd_1gram, cpd_2gram, cpd_3gram, ngram=3)\n",
    "print(prob_3gram)"
   ]
  },
  {
   "cell_type": "code",
   "execution_count": 32,
   "metadata": {},
   "outputs": [
    {
     "name": "stdout",
     "output_type": "stream",
     "text": [
      "0.0\n"
     ]
    }
   ],
   "source": [
    "prob_3gram=find_sent_prob(test_sent2, cpd_1gram, cpd_2gram, cpd_3gram, ngram=3)\n",
    "print(prob_3gram)"
   ]
  },
  {
   "cell_type": "markdown",
   "metadata": {},
   "source": [
    "<h3>Model Evalution</h3>"
   ]
  },
  {
   "cell_type": "code",
   "execution_count": 43,
   "metadata": {},
   "outputs": [
    {
     "data": {
      "text/plain": [
       "0.042566571433373786"
      ]
     },
     "execution_count": 43,
     "metadata": {},
     "output_type": "execute_result"
    }
   ],
   "source": [
    "entropy(cpd_1gram, test_corpus, 1)"
   ]
  },
  {
   "cell_type": "code",
   "execution_count": 44,
   "metadata": {},
   "outputs": [
    {
     "data": {
      "text/plain": [
       "0.08900485666260287"
      ]
     },
     "execution_count": 44,
     "metadata": {},
     "output_type": "execute_result"
    }
   ],
   "source": [
    "entropy(cpd_2gram, test_corpus, 2)"
   ]
  },
  {
   "cell_type": "code",
   "execution_count": 45,
   "metadata": {},
   "outputs": [
    {
     "data": {
      "text/plain": [
       "0.042982443263625575"
      ]
     },
     "execution_count": 45,
     "metadata": {},
     "output_type": "execute_result"
    }
   ],
   "source": [
    "entropy(cpd_3gram, test_corpus, 3)"
   ]
  },
  {
   "cell_type": "code",
   "execution_count": 46,
   "metadata": {},
   "outputs": [
    {
     "data": {
      "text/plain": [
       "1.0299444811319478"
      ]
     },
     "execution_count": 46,
     "metadata": {},
     "output_type": "execute_result"
    }
   ],
   "source": [
    "perplexity(cpd_1gram, test_corpus, 1)"
   ]
  },
  {
   "cell_type": "code",
   "execution_count": 47,
   "metadata": {},
   "outputs": [
    {
     "data": {
      "text/plain": [
       "1.0636362534930857"
      ]
     },
     "execution_count": 47,
     "metadata": {},
     "output_type": "execute_result"
    }
   ],
   "source": [
    "perplexity(cpd_2gram, test_corpus, 2)"
   ]
  },
  {
   "cell_type": "code",
   "execution_count": 48,
   "metadata": {},
   "outputs": [
    {
     "data": {
      "text/plain": [
       "1.0302414161215105"
      ]
     },
     "execution_count": 48,
     "metadata": {},
     "output_type": "execute_result"
    }
   ],
   "source": [
    "perplexity(cpd_3gram, test_corpus, 3)"
   ]
  },
  {
   "cell_type": "code",
   "execution_count": 33,
   "metadata": {},
   "outputs": [],
   "source": [
    "text_wiki=generate_txt_bigram_model(cpd_2gram, 'the', numwords=10)"
   ]
  },
  {
   "cell_type": "code",
   "execution_count": 34,
   "metadata": {},
   "outputs": [
    {
     "data": {
      "text/plain": [
       "'the kind of years of births female rage ambivalence and assassinated'"
      ]
     },
     "execution_count": 34,
     "metadata": {},
     "output_type": "execute_result"
    }
   ],
   "source": [
    "text_wiki"
   ]
  },
  {
   "cell_type": "markdown",
   "metadata": {},
   "source": [
    "<h2>NLTK Brown Corpus for evalution and construction of langauge model</h2>"
   ]
  },
  {
   "cell_type": "code",
   "execution_count": 51,
   "metadata": {},
   "outputs": [],
   "source": [
    "#nltk.corpus.brown.categories()"
   ]
  },
  {
   "cell_type": "code",
   "execution_count": 75,
   "metadata": {},
   "outputs": [],
   "source": [
    "all_categories_text=brown_corpus_categories_text()"
   ]
  },
  {
   "cell_type": "code",
   "execution_count": 76,
   "metadata": {},
   "outputs": [],
   "source": [
    "sents=create_tokens(all_categories_text)\n",
    "train_corpus, test_corpus=train_test_split(sents)"
   ]
  },
  {
   "cell_type": "code",
   "execution_count": 77,
   "metadata": {},
   "outputs": [],
   "source": [
    "fd_1gram=ngram_freq_dist(train_corpus, ngram=1)\n",
    "cpd_1gram=nltk.MLEProbDist(fd_1gram)\n",
    "\n",
    "cfd_2gram=ngram_freq_dist(train_corpus, ngram=2)\n",
    "cpd_2gram = nltk.ConditionalProbDist(cfd_2gram, nltk.MLEProbDist)\n",
    "\n",
    "cfd_3gram=ngram_freq_dist(train_corpus, ngram=3)\n",
    "cpd_3gram = nltk.ConditionalProbDist(cfd_3gram, nltk.MLEProbDist)"
   ]
  },
  {
   "cell_type": "code",
   "execution_count": 80,
   "metadata": {},
   "outputs": [
    {
     "data": {
      "image/png": "[encoded data removed]",
      "text/plain": [
       "<Figure size 1080x432 with 1 Axes>"
      ]
     },
     "metadata": {
      "needs_background": "light"
     },
     "output_type": "display_data"
    },
    {
     "data": {
      "image/png": "[encoded data removed]",
      "text/plain": [
       "<Figure size 1080x432 with 1 Axes>"
      ]
     },
     "metadata": {
      "needs_background": "light"
     },
     "output_type": "display_data"
    }
   ],
   "source": [
    "pws_2gram=probable_words('the world health organization', cpd_2gram, 2)\n",
    "\n",
    "pws_3gram=probable_words('the world', cpd_3gram, 3)"
   ]
  },
  {
   "cell_type": "code",
   "execution_count": 81,
   "metadata": {},
   "outputs": [
    {
     "data": {
      "text/plain": [
       "[('of', 20),\n",
       " ('and', 19),\n",
       " ('in', 18),\n",
       " ('the', 17),\n",
       " ('is', 14),\n",
       " ('that', 13),\n",
       " ('we', 8),\n",
       " ('for', 7),\n",
       " ('he', 6),\n",
       " ('to', 5),\n",
       " ('but', 5),\n",
       " ('was', 5)]"
      ]
     },
     "execution_count": 81,
     "metadata": {},
     "output_type": "execute_result"
    }
   ],
   "source": [
    "pws_3gram"
   ]
  },
  {
   "cell_type": "code",
   "execution_count": 58,
   "metadata": {},
   "outputs": [
    {
     "name": "stdout",
     "output_type": "stream",
     "text": [
      "8.290575791429032e-24\n",
      "0.0\n",
      "0.0\n"
     ]
    }
   ],
   "source": [
    "test_sent1='iran has an embassy in baku'\n",
    "test_sent2='iran embassy has an in baku'\n",
    "\n",
    "prob_1gram=find_sent_prob(test_sent1, cpd_1gram)\n",
    "print(prob_1gram)\n",
    "\n",
    "prob_2gram=find_sent_prob(test_sent2, cpd_1gram,cpd_2gram, ngram=2)\n",
    "print(prob_2gram)\n",
    "\n",
    "prob_3gram=find_sent_prob(test_sent1, cpd_1gram, cpd_2gram, cpd_3gram, ngram=3)\n",
    "print(prob_3gram)"
   ]
  },
  {
   "cell_type": "markdown",
   "metadata": {},
   "source": [
    "<h3>Model Evaluation</h3>"
   ]
  },
  {
   "cell_type": "code",
   "execution_count": 59,
   "metadata": {},
   "outputs": [
    {
     "name": "stdout",
     "output_type": "stream",
     "text": [
      "0.043146096919436695\n",
      "0.09576817045329251\n",
      "0.05517986088787444\n",
      "1.0303582892877148\n",
      "1.0686342564407978\n",
      "1.0389886260056462\n"
     ]
    }
   ],
   "source": [
    "print(entropy(cpd_1gram, test_corpus, 1))\n",
    "\n",
    "print(entropy(cpd_2gram, test_corpus, 2))\n",
    "\n",
    "print(entropy(cpd_3gram, test_corpus, 3))\n",
    "\n",
    "print(perplexity(cpd_1gram, test_corpus, 1))\n",
    "\n",
    "print(perplexity(cpd_2gram, test_corpus, 2))\n",
    "\n",
    "print(perplexity(cpd_3gram, test_corpus, 3))"
   ]
  },
  {
   "cell_type": "code",
   "execution_count": 60,
   "metadata": {},
   "outputs": [],
   "source": [
    "text_brown=generate_txt_bigram_model(cpd_2gram, 'the', numwords=10)"
   ]
  },
  {
   "cell_type": "code",
   "execution_count": 61,
   "metadata": {},
   "outputs": [
    {
     "data": {
      "text/plain": [
       "'the excess egalitarianism had to look great many days were still'"
      ]
     },
     "execution_count": 61,
     "metadata": {},
     "output_type": "execute_result"
    }
   ],
   "source": [
    "text_brown"
   ]
  },
  {
   "cell_type": "code",
   "execution_count": null,
   "metadata": {},
   "outputs": [],
   "source": []
  },
  {
   "cell_type": "markdown",
   "metadata": {},
   "source": [
    "<h2>Using pos tags of the of the Brown Corpus for Language model</h2>"
   ]
  },
  {
   "cell_type": "code",
   "execution_count": 62,
   "metadata": {},
   "outputs": [],
   "source": [
    "text=nltk_brown_corpus()"
   ]
  },
  {
   "cell_type": "code",
   "execution_count": 63,
   "metadata": {},
   "outputs": [],
   "source": [
    "sents=create_tokens(text)\n",
    "train_corpus, test_corpus=train_test_split(sents)"
   ]
  },
  {
   "cell_type": "markdown",
   "metadata": {},
   "source": [
    "<p>Here part of speech tags are collected for the training and test corpus </p>"
   ]
  },
  {
   "cell_type": "code",
   "execution_count": 64,
   "metadata": {},
   "outputs": [],
   "source": [
    "train_tag=[tagged_word[1] for tagged_word in nltk.pos_tag(train_corpus)]\n",
    "test_tag=[tagged_word[1] for tagged_word in nltk.pos_tag(test_corpus)]"
   ]
  },
  {
   "cell_type": "code",
   "execution_count": 65,
   "metadata": {},
   "outputs": [],
   "source": [
    "train_corpus, test_corpus= train_tag, test_tag"
   ]
  },
  {
   "cell_type": "code",
   "execution_count": 66,
   "metadata": {},
   "outputs": [],
   "source": [
    "#train_corpus"
   ]
  },
  {
   "cell_type": "code",
   "execution_count": 67,
   "metadata": {},
   "outputs": [],
   "source": [
    "fd_1gram=ngram_freq_dist(train_corpus, ngram=1)\n",
    "cpd_1gram=nltk.MLEProbDist(fd_1gram)\n",
    "\n",
    "cfd_2gram=ngram_freq_dist(train_corpus, ngram=2)\n",
    "cpd_2gram = nltk.ConditionalProbDist(cfd_2gram, nltk.MLEProbDist)\n",
    "\n",
    "cfd_3gram=ngram_freq_dist(train_corpus, ngram=3)\n",
    "cpd_3gram = nltk.ConditionalProbDist(cfd_3gram, nltk.MLEProbDist)"
   ]
  },
  {
   "cell_type": "code",
   "execution_count": 68,
   "metadata": {},
   "outputs": [
    {
     "data": {
      "image/png": "[encoded data removed]",
      "text/plain": [
       "<Figure size 1080x432 with 1 Axes>"
      ]
     },
     "metadata": {
      "needs_background": "light"
     },
     "output_type": "display_data"
    }
   ],
   "source": [
    "pws_2gram=probable_words('NN', cpd_2gram, 2)"
   ]
  },
  {
   "cell_type": "code",
   "execution_count": 69,
   "metadata": {},
   "outputs": [
    {
     "data": {
      "image/png": "[encoded data removed]",
      "text/plain": [
       "<Figure size 1080x432 with 1 Axes>"
      ]
     },
     "metadata": {
      "needs_background": "light"
     },
     "output_type": "display_data"
    }
   ],
   "source": [
    "pws_3gram=probable_words('NN CC', cpd_3gram, 3)"
   ]
  },
  {
   "cell_type": "code",
   "execution_count": 70,
   "metadata": {},
   "outputs": [],
   "source": [
    "text_tag=generate_txt_bigram_model(cpd_2gram, 'NN', numwords=10)"
   ]
  },
  {
   "cell_type": "code",
   "execution_count": 71,
   "metadata": {},
   "outputs": [
    {
     "data": {
      "text/plain": [
       "'NN IN IN RB IN PRP IN NN VBP IN DT'"
      ]
     },
     "execution_count": 71,
     "metadata": {},
     "output_type": "execute_result"
    }
   ],
   "source": [
    "text_tag"
   ]
  },
  {
   "cell_type": "code",
   "execution_count": null,
   "metadata": {},
   "outputs": [],
   "source": []
  }
 ],
 "metadata": {
  "kernelspec": {
   "display_name": "Python 3",
   "language": "python",
   "name": "python3"
  },
  "language_info": {
   "codemirror_mode": {
    "name": "ipython",
    "version": 3
   },
   "file_extension": ".py",
   "mimetype": "text/x-python",
   "name": "python",
   "nbconvert_exporter": "python",
   "pygments_lexer": "ipython3",
   "version": "3.6.9"
  }
 },
 "nbformat": 4,
 "nbformat_minor": 4
}
