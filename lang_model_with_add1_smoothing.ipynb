{
 "cells": [
  {
   "cell_type": "markdown",
   "metadata": {},
   "source": [
    "<h1> Language Model with Add1-Smoothing (Laplace smoothing)</h1>\n",
    "\n",
    "\\begin{align*}\n",
    "P(w_i|w_{i-1})=\\frac{1+c(w_{i-1},w_i)}{c(w_i,*)+|v|}\n",
    "\\end{align*}\n",
    "<p>$v$ = vocabulary size <br>\n",
    "$c(x)$ = count of $x$ in corpus</p>"
   ]
  },
  {
   "cell_type": "markdown",
   "metadata": {},
   "source": [
    "<p> <code>Note:<code> If any changes you make in <code>language_model.ipynb<code>. \n",
    "In order to changes to reflect in this or any notebook that imported the file <code>language_model.ipynb<code>, \n",
    "you must restart the Kernel from the Kernel Tab Available above.<\\p>"
   ]
  },
  {
   "cell_type": "code",
   "execution_count": 1,
   "metadata": {},
   "outputs": [],
   "source": [
    "%%capture\n",
    "import import_ipynb\n",
    "from language_model import *"
   ]
  },
  {
   "cell_type": "markdown",
   "metadata": {},
   "source": [
    "# Wikipedia articles"
   ]
  },
  {
   "cell_type": "code",
   "execution_count": 2,
   "metadata": {},
   "outputs": [],
   "source": [
    "filenames=read_filename('./wikipedia/', 500)"
   ]
  },
  {
   "cell_type": "code",
   "execution_count": 3,
   "metadata": {},
   "outputs": [],
   "source": [
    "sents=create_tokens(filenames)"
   ]
  },
  {
   "cell_type": "code",
   "execution_count": 4,
   "metadata": {},
   "outputs": [],
   "source": [
    "train_corpus, test_corpus=train_test_split(sents)"
   ]
  },
  {
   "cell_type": "markdown",
   "metadata": {},
   "source": [
    "<h3>Obtaining probality distribution with Add1 smoothing for Unigrams</h3>"
   ]
  },
  {
   "cell_type": "code",
   "execution_count": 5,
   "metadata": {},
   "outputs": [],
   "source": [
    "fd_1gram=ngram_freq_dist(train_corpus, ngram=1)\n",
    "cpd_1gram_with_add1=nltk.LaplaceProbDist(fd_1gram) #Obtaining probality distribution with Add1 \n",
    "#smoothing for unigram"
   ]
  },
  {
   "cell_type": "code",
   "execution_count": 6,
   "metadata": {},
   "outputs": [],
   "source": [
    "vocab=len(fd_1gram) #vocabulary size"
   ]
  },
  {
   "cell_type": "markdown",
   "metadata": {},
   "source": [
    "<h3>Obtaining conditional probality distribution with Add1 smoothing for Bigrams</h3>"
   ]
  },
  {
   "cell_type": "code",
   "execution_count": 7,
   "metadata": {},
   "outputs": [],
   "source": [
    "cfd_2gram=ngram_freq_dist(train_corpus, ngram=2)\n",
    "cpd_2gram_with_add1 = nltk.ConditionalProbDist(cfd_2gram, nltk.LaplaceProbDist, bins=pow(vocab,2))"
   ]
  },
  {
   "cell_type": "code",
   "execution_count": 8,
   "metadata": {},
   "outputs": [],
   "source": [
    "#cpd_2gram_with_add1 = nltk.ConditionalProbDist(cfd_2gram, nltk.SimpleGoodTuringProbDist, bins=pow(vocab,2))"
   ]
  },
  {
   "cell_type": "code",
   "execution_count": 9,
   "metadata": {},
   "outputs": [],
   "source": [
    "#dict(cpd_2gram_with_add1['azerbaijan'].freqdist())"
   ]
  },
  {
   "cell_type": "markdown",
   "metadata": {},
   "source": [
    "<h3>Obtaining conditional probality distribution with Add1 smoothing for Trigrams</h3>"
   ]
  },
  {
   "cell_type": "code",
   "execution_count": 10,
   "metadata": {},
   "outputs": [],
   "source": [
    "cfd_3gram=ngram_freq_dist(train_corpus, ngram=3)\n",
    "cpd_3gram_with_add1 = nltk.ConditionalProbDist(cfd_3gram, nltk.LaplaceProbDist,bins=pow(vocab,3))"
   ]
  },
  {
   "cell_type": "code",
   "execution_count": 11,
   "metadata": {},
   "outputs": [
    {
     "data": {
      "image/png": "[encoded data removed]",
      "text/plain": [
       "<Figure size 1080x432 with 1 Axes>"
      ]
     },
     "metadata": {
      "needs_background": "light"
     },
     "output_type": "display_data"
    }
   ],
   "source": [
    "pws_2gram=probable_words('the world health organization', cpd_2gram_with_add1, 2)"
   ]
  },
  {
   "cell_type": "code",
   "execution_count": 12,
   "metadata": {},
   "outputs": [
    {
     "data": {
      "image/png": "[encoded data removed]",
      "text/plain": [
       "<Figure size 1080x432 with 1 Axes>"
      ]
     },
     "metadata": {
      "needs_background": "light"
     },
     "output_type": "display_data"
    }
   ],
   "source": [
    "pws_3gram=probable_words('the world', cpd_3gram_with_add1, 3)"
   ]
  },
  {
   "cell_type": "code",
   "execution_count": 13,
   "metadata": {},
   "outputs": [
    {
     "data": {
      "text/plain": [
       "[('in', 33),\n",
       " ('and', 33),\n",
       " ('largest', 25),\n",
       " ('the', 22),\n",
       " ('to', 18),\n",
       " ('bank', 18),\n",
       " ('of', 16),\n",
       " ('is', 15),\n",
       " ('turns', 14),\n",
       " ('2012', 13),\n",
       " ('at', 13),\n",
       " ('with', 13)]"
      ]
     },
     "execution_count": 13,
     "metadata": {},
     "output_type": "execute_result"
    }
   ],
   "source": [
    "pws_3gram"
   ]
  },
  {
   "cell_type": "code",
   "execution_count": 14,
   "metadata": {},
   "outputs": [],
   "source": [
    "test_sent1='iran has an embassy in baku'\n",
    "test_sent2='iran embassy has an in baku'"
   ]
  },
  {
   "cell_type": "code",
   "execution_count": 15,
   "metadata": {},
   "outputs": [
    {
     "name": "stdout",
     "output_type": "stream",
     "text": [
      "9.634121745125834e-20\n"
     ]
    }
   ],
   "source": [
    "prob_1gram=find_sent_prob(test_sent2, cpd_1gram_with_add1)\n",
    "print(prob_1gram)"
   ]
  },
  {
   "cell_type": "code",
   "execution_count": 18,
   "metadata": {},
   "outputs": [
    {
     "name": "stdout",
     "output_type": "stream",
     "text": [
      "7.888043404411847e-51\n"
     ]
    }
   ],
   "source": [
    "prob_2gram=find_sent_prob(test_sent2,cpd_1gram_with_add1, cpd_2gram_with_add1, ngram=2)\n",
    "print(prob_2gram)"
   ]
  },
  {
   "cell_type": "code",
   "execution_count": 20,
   "metadata": {},
   "outputs": [
    {
     "name": "stdout",
     "output_type": "stream",
     "text": [
      "3.0274623808328916e-67\n"
     ]
    }
   ],
   "source": [
    "prob_3gram=find_sent_prob(test_sent1,cpd_1gram_with_add1, cpd_2gram_with_add1, cpd_3gram_with_add1, ngram=3)\n",
    "print(prob_3gram)"
   ]
  },
  {
   "cell_type": "code",
   "execution_count": 21,
   "metadata": {},
   "outputs": [
    {
     "data": {
      "text/plain": [
       "0.040833302562920434"
      ]
     },
     "execution_count": 21,
     "metadata": {},
     "output_type": "execute_result"
    }
   ],
   "source": [
    "entropy(cpd_1gram_with_add1, test_corpus, 1)"
   ]
  },
  {
   "cell_type": "code",
   "execution_count": 22,
   "metadata": {},
   "outputs": [
    {
     "data": {
      "text/plain": [
       "6.661979937043392e-07"
      ]
     },
     "execution_count": 22,
     "metadata": {},
     "output_type": "execute_result"
    }
   ],
   "source": [
    "entropy(cpd_2gram_with_add1, test_corpus, 2)"
   ]
  },
  {
   "cell_type": "code",
   "execution_count": 23,
   "metadata": {},
   "outputs": [
    {
     "data": {
      "text/plain": [
       "2.316376816349217e-13"
      ]
     },
     "execution_count": 23,
     "metadata": {},
     "output_type": "execute_result"
    }
   ],
   "source": [
    "entropy(cpd_3gram_with_add1, test_corpus, 3)"
   ]
  },
  {
   "cell_type": "code",
   "execution_count": 24,
   "metadata": {},
   "outputs": [
    {
     "data": {
      "text/plain": [
       "1.0287078380959342"
      ]
     },
     "execution_count": 24,
     "metadata": {},
     "output_type": "execute_result"
    }
   ],
   "source": [
    "perplexity(cpd_1gram_with_add1, test_corpus, 1)"
   ]
  },
  {
   "cell_type": "code",
   "execution_count": 25,
   "metadata": {},
   "outputs": [
    {
     "data": {
      "text/plain": [
       "1.0000004617733675"
      ]
     },
     "execution_count": 25,
     "metadata": {},
     "output_type": "execute_result"
    }
   ],
   "source": [
    "perplexity(cpd_2gram_with_add1, test_corpus, 2)"
   ]
  },
  {
   "cell_type": "code",
   "execution_count": 26,
   "metadata": {},
   "outputs": [
    {
     "data": {
      "text/plain": [
       "1.0000000000001605"
      ]
     },
     "execution_count": 26,
     "metadata": {},
     "output_type": "execute_result"
    }
   ],
   "source": [
    "perplexity(cpd_3gram_with_add1, test_corpus, 3)"
   ]
  },
  {
   "cell_type": "code",
   "execution_count": 27,
   "metadata": {},
   "outputs": [],
   "source": [
    "text_wiki=generate_txt_bigram_model(cpd_2gram_with_add1, 'the', numwords=10)"
   ]
  },
  {
   "cell_type": "code",
   "execution_count": 28,
   "metadata": {},
   "outputs": [
    {
     "data": {
      "text/plain": [
       "'the sabc has but render honors frank b. yeats and surprising'"
      ]
     },
     "execution_count": 28,
     "metadata": {},
     "output_type": "execute_result"
    }
   ],
   "source": [
    "text_wiki"
   ]
  },
  {
   "cell_type": "markdown",
   "metadata": {},
   "source": [
    "# NLTK Brown Corpus"
   ]
  },
  {
   "cell_type": "code",
   "execution_count": 29,
   "metadata": {},
   "outputs": [],
   "source": [
    "#nltk.corpus.brown.categories()"
   ]
  },
  {
   "cell_type": "code",
   "execution_count": 30,
   "metadata": {},
   "outputs": [],
   "source": [
    "all_categories_text=brown_corpus_categories_text()"
   ]
  },
  {
   "cell_type": "code",
   "execution_count": 31,
   "metadata": {},
   "outputs": [],
   "source": [
    "sents=create_tokens(all_categories_text)\n",
    "train_corpus, test_corpus=train_test_split(sents)"
   ]
  },
  {
   "cell_type": "code",
   "execution_count": 32,
   "metadata": {},
   "outputs": [],
   "source": [
    "fd_1gram=ngram_freq_dist(train_corpus, ngram=1)\n",
    "cpd_1gram_with_add1=nltk.LaplaceProbDist(fd_1gram)\n",
    "vocab=len(fd_1gram)\n",
    "cfd_2gram=ngram_freq_dist(train_corpus, ngram=2)\n",
    "cpd_2gram_with_add1 = nltk.ConditionalProbDist(cfd_2gram, nltk.LaplaceProbDist, bins=pow(vocab,2))\n",
    "\n",
    "cfd_3gram=ngram_freq_dist(train_corpus, ngram=3)\n",
    "cpd_3gram_with_add1 = nltk.ConditionalProbDist(cfd_3gram, nltk.LaplaceProbDist, bins=pow(vocab,3))"
   ]
  },
  {
   "cell_type": "code",
   "execution_count": null,
   "metadata": {},
   "outputs": [],
   "source": []
  },
  {
   "cell_type": "code",
   "execution_count": 33,
   "metadata": {},
   "outputs": [
    {
     "data": {
      "image/png": "[encoded data removed]",
      "text/plain": [
       "<Figure size 1080x432 with 1 Axes>"
      ]
     },
     "metadata": {
      "needs_background": "light"
     },
     "output_type": "display_data"
    }
   ],
   "source": [
    "pws_2gram=probable_words('the world health organization', cpd_2gram_with_add1, 2)"
   ]
  },
  {
   "cell_type": "code",
   "execution_count": 34,
   "metadata": {},
   "outputs": [
    {
     "data": {
      "image/png": "[encoded data removed]",
      "text/plain": [
       "<Figure size 1080x432 with 1 Axes>"
      ]
     },
     "metadata": {
      "needs_background": "light"
     },
     "output_type": "display_data"
    }
   ],
   "source": [
    "pws_3gram=probable_words('the night', cpd_3gram_with_add1, 3)"
   ]
  },
  {
   "cell_type": "code",
   "execution_count": 35,
   "metadata": {},
   "outputs": [
    {
     "name": "stdout",
     "output_type": "stream",
     "text": [
      "1.979810869984714e-23\n",
      "3.085248639528914e-51\n",
      "1.554414304566294e-71\n"
     ]
    }
   ],
   "source": [
    "test_sent1='iran has an embassy in baku'\n",
    "test_sent2='iran embassy has an in baku'\n",
    "\n",
    "prob_1gram=find_sent_prob(test_sent1, cpd_1gram_with_add1, ngram=1)\n",
    "print(prob_1gram)\n",
    "\n",
    "prob_2gram=find_sent_prob(test_sent2, cpd_1gram_with_add1, cpd_2gram_with_add1, ngram=2)\n",
    "print(prob_2gram)\n",
    "\n",
    "prob_3gram=find_sent_prob(test_sent1,cpd_1gram_with_add1, cpd_2gram_with_add1, cpd_3gram_with_add1, ngram=3)\n",
    "print(prob_3gram)"
   ]
  },
  {
   "cell_type": "code",
   "execution_count": 36,
   "metadata": {},
   "outputs": [
    {
     "name": "stdout",
     "output_type": "stream",
     "text": [
      "0.04170287403499804\n",
      "1.430867415573358e-06\n",
      "1.3358112503116896e-12\n",
      "1.0293280694021945\n",
      "1.0000009918022066\n",
      "1.000000000000926\n"
     ]
    }
   ],
   "source": [
    "print(entropy(cpd_1gram_with_add1, test_corpus, 1))\n",
    "\n",
    "print(entropy(cpd_2gram_with_add1, test_corpus, 2))\n",
    "\n",
    "print(entropy(cpd_3gram_with_add1, test_corpus, 3))\n",
    "\n",
    "print(perplexity(cpd_1gram_with_add1, test_corpus, 1))\n",
    "\n",
    "print(perplexity(cpd_2gram_with_add1, test_corpus, 2))\n",
    "\n",
    "print(perplexity(cpd_3gram_with_add1, test_corpus, 3))"
   ]
  },
  {
   "cell_type": "code",
   "execution_count": 37,
   "metadata": {},
   "outputs": [],
   "source": [
    "text_brown=generate_txt_bigram_model(cpd_2gram_with_add1, 'the', numwords=10)"
   ]
  },
  {
   "cell_type": "code",
   "execution_count": 38,
   "metadata": {},
   "outputs": [
    {
     "data": {
      "text/plain": [
       "'the bestseller lists and zealous volunteers but sympathetic side are definitely'"
      ]
     },
     "execution_count": 38,
     "metadata": {},
     "output_type": "execute_result"
    }
   ],
   "source": [
    "text_brown"
   ]
  },
  {
   "cell_type": "code",
   "execution_count": null,
   "metadata": {},
   "outputs": [],
   "source": [
    "#nltk_brown_corpus()"
   ]
  },
  {
   "cell_type": "code",
   "execution_count": null,
   "metadata": {},
   "outputs": [],
   "source": []
  }
 ],
 "metadata": {
  "kernelspec": {
   "display_name": "Python 3",
   "language": "python",
   "name": "python3"
  },
  "language_info": {
   "codemirror_mode": {
    "name": "ipython",
    "version": 3
   },
   "file_extension": ".py",
   "mimetype": "text/x-python",
   "name": "python",
   "nbconvert_exporter": "python",
   "pygments_lexer": "ipython3",
   "version": "3.6.9"
  }
 },
 "nbformat": 4,
 "nbformat_minor": 4
}
