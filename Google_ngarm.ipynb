{
 "cells": [
  {
   "cell_type": "code",
   "execution_count": 24,
   "metadata": {},
   "outputs": [],
   "source": [
    "import requests\n",
    "import csv\n",
    "import matplotlib.pyplot as plt\n",
    "import nltk\n",
    "%matplotlib inline"
   ]
  },
  {
   "cell_type": "code",
   "execution_count": 41,
   "metadata": {},
   "outputs": [],
   "source": [
    "def load_total_counts(start_year, end_year):\n",
    "    english_count_url='http://storage.googleapis.com/books/ngrams/books/googlebooks-eng-all-totalcounts-20120701.txt'\n",
    "    response = requests.get(english_count_url).text\n",
    "    total_counts = []\n",
    "    data = response.split('\\t')\n",
    "    for row in data[1:-1]:\n",
    "        row=row.split(',')\n",
    "        if int(row[0]) >= start_year and int(row[0]) <= end_year:\n",
    "            total_counts.append(int(row[1]))\n",
    "    return total_counts"
   ]
  },
  {
   "cell_type": "code",
   "execution_count": 3,
   "metadata": {},
   "outputs": [
    {
     "data": {
      "text/plain": [
       "[70784405,\n",
       " 107290136,\n",
       " 95731997,\n",
       " 104173226,\n",
       " 114051906,\n",
       " 115330195,\n",
       " 118229517,\n",
       " 128904931,\n",
       " 129988114,\n",
       " 137911980,\n",
       " 150961261,\n",
       " 177318465,\n",
       " 172538907,\n",
       " 144660671,\n",
       " 168441689,\n",
       " 156318674,\n",
       " 161561836,\n",
       " 182422107,\n",
       " 204446854,\n",
       " 174156635,\n",
       " 231277724,\n",
       " 181677006,\n",
       " 271213007,\n",
       " 254327070,\n",
       " 309237910,\n",
       " 318701311,\n",
       " 243758959,\n",
       " 253677933,\n",
       " 273678947,\n",
       " 293815859,\n",
       " 342378710,\n",
       " 313388047,\n",
       " 314184783,\n",
       " 310441320,\n",
       " 301383644,\n",
       " 355491202,\n",
       " 365982104,\n",
       " 337485292,\n",
       " 358600155,\n",
       " 413876708,\n",
       " 423904296,\n",
       " 387286321,\n",
       " 348396317,\n",
       " 404133447,\n",
       " 419311001,\n",
       " 456885448,\n",
       " 459546575,\n",
       " 443868440,\n",
       " 466134080,\n",
       " 472315353,\n",
       " 504143257,\n",
       " 537705793,\n",
       " 558718364,\n",
       " 625159477,\n",
       " 683559348,\n",
       " 605758582,\n",
       " 652385453,\n",
       " 568489706,\n",
       " 541848821,\n",
       " 588343315,\n",
       " 607952196,\n",
       " 463190641,\n",
       " 396839451,\n",
       " 418297294,\n",
       " 493159851,\n",
       " 503022451,\n",
       " 548257863,\n",
       " 518622969,\n",
       " 547590187,\n",
       " 558291347,\n",
       " 548870828,\n",
       " 560339562,\n",
       " 566620105,\n",
       " 583981485,\n",
       " 636667506,\n",
       " 643873731,\n",
       " 676820039,\n",
       " 667722549,\n",
       " 629401874,\n",
       " 654448581,\n",
       " 784223075,\n",
       " 789254798,\n",
       " 828502461,\n",
       " 930196929,\n",
       " 881638914,\n",
       " 857166435,\n",
       " 727723136,\n",
       " 801865869,\n",
       " 795886071,\n",
       " 763170247,\n",
       " 787152479,\n",
       " 849750639,\n",
       " 936056142,\n",
       " 915629979,\n",
       " 899615494,\n",
       " 984856075,\n",
       " 1050921103,\n",
       " 1031909734,\n",
       " 1109257706,\n",
       " 1232717908,\n",
       " 1341057959,\n",
       " 1285712637,\n",
       " 1311315033,\n",
       " 1266236889,\n",
       " 1405505328,\n",
       " 1351302005,\n",
       " 1397090480,\n",
       " 1409945274,\n",
       " 1417130893,\n",
       " 1283265090,\n",
       " 1354824248,\n",
       " 1350964981,\n",
       " 1431385638,\n",
       " 1356693322,\n",
       " 1324894757,\n",
       " 1211361619,\n",
       " 1175413415,\n",
       " 1183132092,\n",
       " 1039343103,\n",
       " 1136614538,\n",
       " 1388696469,\n",
       " 1216676110,\n",
       " 1413237707,\n",
       " 1151386048,\n",
       " 1069007206,\n",
       " 1113107246,\n",
       " 1053565430,\n",
       " 1216023821,\n",
       " 1212716430,\n",
       " 1153722574,\n",
       " 1244889331,\n",
       " 1183806248,\n",
       " 1057602772,\n",
       " 915956659,\n",
       " 1053600093,\n",
       " 1157109310,\n",
       " 1199843463,\n",
       " 1232280287,\n",
       " 1261812592,\n",
       " 1249209591,\n",
       " 1179404138,\n",
       " 1084154164,\n",
       " 1045379066,\n",
       " 890214397,\n",
       " 812192380,\n",
       " 926378706,\n",
       " 1203221497,\n",
       " 1385834769,\n",
       " 1486005621,\n",
       " 1641024100,\n",
       " 1644401950,\n",
       " 1603394676,\n",
       " 1621780754,\n",
       " 1590464886,\n",
       " 1662160145,\n",
       " 1751719755,\n",
       " 1817491821,\n",
       " 1952474329,\n",
       " 1976098333,\n",
       " 2064236476,\n",
       " 2341981521,\n",
       " 2567977722,\n",
       " 2818694749,\n",
       " 2955051696,\n",
       " 2931038992,\n",
       " 3300623502,\n",
       " 3466842517,\n",
       " 3658119990,\n",
       " 3968752101,\n",
       " 3942222509,\n",
       " 4086393350,\n",
       " 4058576649,\n",
       " 4174172415,\n",
       " 4058707895,\n",
       " 4045487401,\n",
       " 4104379941,\n",
       " 4242326406,\n",
       " 4314577619,\n",
       " 4365839878,\n",
       " 4528331460,\n",
       " 4611609946,\n",
       " 4627406112,\n",
       " 4839530894,\n",
       " 4982167985,\n",
       " 5309222580,\n",
       " 5475269397,\n",
       " 5793946882,\n",
       " 5936558026,\n",
       " 6191886939,\n",
       " 6549339038,\n",
       " 7075013106,\n",
       " 6895715366,\n",
       " 7596808027,\n",
       " 7492130348,\n",
       " 8027353540,\n",
       " 8276258599,\n",
       " 8745049453,\n",
       " 8979708108,\n",
       " 9406708249,\n",
       " 9997156197,\n",
       " 11190986329]"
      ]
     },
     "execution_count": 3,
     "metadata": {},
     "output_type": "execute_result"
    }
   ],
   "source": [
    "load_total_counts(1800,2000)"
   ]
  },
  {
   "cell_type": "code",
   "execution_count": 57,
   "metadata": {},
   "outputs": [],
   "source": [
    "def google_ngram_counts(token, corpus_id=15, smoothing=0, start_year=1800, end_year=2000):\n",
    "    token = token.replace(' ', '+')\n",
    "    url = 'https://books.google.com/ngrams/interactive_chart?content={}&year_start={}&year_end={}' \\\n",
    "             '&corpus={}&smoothing={}'.format(token, start_year, end_year, corpus_id, smoothing)\n",
    "    try:\n",
    "        page = requests.get(url).text\n",
    "        \n",
    "        start = page.find('var data = ')\n",
    "        end = page.find('];\\n', start)\n",
    "\n",
    "        data = eval(page[start+12:end])\n",
    "        print(data)\n",
    "        probality = data['timeseries']\n",
    "        total_counts = load_total_counts(start_year, end_year)\n",
    "        absolute_counts= [round(a*b)for a , b in zip(total_counts, probality)]\n",
    "    except Exception as e:\n",
    "        print('Ngram not available')\n",
    "        absolute_counts=0\n",
    "        probality=0.0\n",
    "    return absolute_counts, probality"
   ]
  },
  {
   "cell_type": "code",
   "execution_count": 43,
   "metadata": {},
   "outputs": [],
   "source": [
    "def google_ngram_prob(token, corpus_id=15, smoothing=0, start_year=1800, end_year=2000):\n",
    "    probality=0.0\n",
    "    token = token.replace(' ', '+')\n",
    "    url = 'https://books.google.com/ngrams/interactive_chart?content={}&year_start={}&year_end={}' \\\n",
    "             '&corpus={}&smoothing={}'.format(token, start_year, end_year, corpus_id, smoothing)\n",
    "    try:\n",
    "        page = requests.get(url).text\n",
    "        start = page.find('var data = ')\n",
    "        end = page.find('];\\n', start)\n",
    "        data = eval(page[start+12:end])\n",
    "        probality = sum(data['timeseries'])\n",
    "    except Exception as e:\n",
    "        print('Ngram not available')\n",
    "    return probality"
   ]
  },
  {
   "cell_type": "code",
   "execution_count": 13,
   "metadata": {},
   "outputs": [
    {
     "name": "stdout",
     "output_type": "stream",
     "text": [
      "{'ngram': 'albert einstein', 'type': 'NGRAM', 'timeseries': [0.0, 0.0, 0.0, 0.0, 0.0, 0.0, 0.0, 0.0, 0.0, 0.0, 0.0, 0.0, 0.0, 0.0, 0.0, 0.0, 0.0, 0.0, 0.0, 0.0, 0.0, 0.0, 0.0, 0.0, 0.0, 0.0, 0.0, 0.0, 0.0, 0.0, 0.0, 0.0, 0.0, 0.0, 0.0, 0.0, 0.0, 0.0, 0.0, 0.0, 0.0, 0.0, 0.0, 0.0, 0.0, 0.0, 0.0, 0.0, 0.0, 0.0, 0.0, 0.0, 0.0, 0.0, 0.0, 0.0, 0.0, 0.0, 0.0, 0.0, 0.0, 0.0, 0.0, 0.0, 0.0, 0.0, 0.0, 0.0, 0.0, 0.0, 0.0, 0.0, 0.0, 0.0, 0.0, 0.0, 0.0, 0.0, 0.0, 0.0, 0.0, 0.0, 0.0, 0.0, 0.0, 0.0, 0.0, 0.0, 0.0, 0.0, 0.0, 0.0, 0.0, 0.0, 0.0, 0.0, 0.0, 0.0, 0.0, 0.0, 0.0, 0.0, 0.0, 0.0, 0.0, 0.0, 0.0, 0.0, 0.0, 0.0, 0.0, 0.0, 0.0, 0.0, 0.0, 0.0, 0.0, 0.0, 0.0, 0.0, 0.0, 0.0, 0.0, 0.0, 8.917388494289469e-10, 0.0, 0.0, 0.0, 0.0, 0.0, 7.659609613241969e-10, 8.052883360143426e-10, 0.0, 0.0, 0.0, 0.0, 0.0, 0.0, 0.0, 3.0529174743776366e-09, 0.0, 0.0, 9.113045873476722e-10, 0.0, 1.173419694744382e-09, 0.0, 7.924683131932397e-10, 1.3766467965581342e-09, 6.419136333590814e-10, 1.7440565658333185e-09, 0.0, 0.0, 0.0, 0.0, 1.1474304839609317e-09, 1.0888423496169253e-09, 1.5742880332680897e-09, 9.76998704160792e-10, 4.825573274302997e-10, 4.158488664529614e-09, 6.110868699948924e-09, 3.7152086962422004e-10, 2.0313197790500226e-09, 1.2917187319771983e-09, 3.25596744010781e-10, 1.1568913604875775e-09, 2.2029218449404198e-09, 3.654049285373162e-09, 1.4437282480628255e-09, 4.843063172721429e-10, 2.1028332408690176e-09, 7.056769613100755e-10, 6.858687506827721e-10, 2.351060734984145e-10, 0.0, 2.3236926272041103e-10, 1.5729937352659817e-09, 4.4187595249489675e-10, 6.548633857406116e-10, 1.262468796170424e-09, 1.8591380657184686e-09, 1.8521012501437895e-09, 0.0, 3.821222505084876e-10, 1.793118847848163e-10, 6.953358444583557e-10, 1.8070822616067517e-09, 3.8480569841681245e-09, 1.2298789764386697e-09, 1.453305253917847e-09, 2.690543898786757e-10, 8.280721108810951e-10, 1.2530493309625967e-09, 3.811800042274882e-10, 4.74306038888983e-10, 5.751255582886472e-10, 3.2662117455117823e-10, 1.4839998119242637e-09, 3.0367586223434273e-10, 5.714448914062586e-10, 3.402514103800769e-10], 'parent': ''}\n"
     ]
    }
   ],
   "source": [
    "absolute_counts, prob=google_ngram_counts(token='albert einstein', corpus_id=15, smoothing=0, start_year=1800, end_year=2000)"
   ]
  },
  {
   "cell_type": "code",
   "execution_count": 44,
   "metadata": {},
   "outputs": [],
   "source": [
    "def plot_ngram_count(token, corpus_id=15, smoothing=0, start_year=1800, end_year=2000):\n",
    "    absolute_counts, _ = google_ngram_counts(token, corpus_id, smoothing, start_year, end_year)\n",
    "    if absolute_counts != 0:\n",
    "        years = range(start_year, start_year + len(absolute_counts))\n",
    "        plt.plot(years, absolute_counts)\n",
    "        plt.xlabel('Year')\n",
    "        plt.ylabel('Frequency of word/s \"{0}\"'.format(token))\n",
    "        plt.title('Yearwise frequency distribution of \"{0}\"'.format(token))\n",
    "        plt.show()\n",
    "    else:\n",
    "        print('No Plot available for given ngram \"{}\"'.format(token))"
   ]
  },
  {
   "cell_type": "code",
   "execution_count": 58,
   "metadata": {},
   "outputs": [
    {
     "name": "stdout",
     "output_type": "stream",
     "text": [
      "{'ngram': 'albert einstein', 'type': 'NGRAM', 'timeseries': [0.0, 0.0, 0.0, 0.0, 0.0, 0.0, 0.0, 0.0, 0.0, 0.0, 0.0, 0.0, 0.0, 0.0, 0.0, 0.0, 0.0, 0.0, 0.0, 0.0, 0.0, 0.0, 0.0, 0.0, 0.0, 0.0, 0.0, 0.0, 0.0, 0.0, 0.0, 0.0, 0.0, 0.0, 0.0, 0.0, 0.0, 0.0, 0.0, 0.0, 0.0, 0.0, 0.0, 0.0, 0.0, 0.0, 0.0, 0.0, 0.0, 0.0, 0.0, 0.0, 0.0, 0.0, 0.0, 0.0, 0.0, 0.0, 0.0, 0.0, 0.0, 0.0, 0.0, 0.0, 0.0, 0.0, 0.0, 0.0, 0.0, 0.0, 0.0, 0.0, 0.0, 0.0, 0.0, 0.0, 0.0, 0.0, 0.0, 0.0, 0.0, 0.0, 0.0, 0.0, 0.0, 0.0, 0.0, 0.0, 0.0, 0.0, 0.0, 0.0, 0.0, 0.0, 0.0, 0.0, 0.0, 0.0, 0.0, 0.0, 0.0, 0.0, 0.0, 0.0, 0.0, 0.0, 0.0, 0.0, 0.0, 0.0, 0.0, 0.0, 0.0, 0.0, 0.0, 0.0, 0.0, 0.0, 0.0, 0.0, 0.0, 0.0, 0.0, 0.0, 8.917388494289469e-10, 0.0, 0.0, 0.0, 0.0, 0.0, 7.659609613241969e-10, 8.052883360143426e-10, 0.0, 0.0, 0.0, 0.0, 0.0, 0.0, 0.0, 3.0529174743776366e-09, 0.0, 0.0, 9.113045873476722e-10, 0.0, 1.173419694744382e-09, 0.0, 7.924683131932397e-10, 1.3766467965581342e-09, 6.419136333590814e-10, 1.7440565658333185e-09, 0.0, 0.0, 0.0, 0.0, 1.1474304839609317e-09, 1.0888423496169253e-09, 1.5742880332680897e-09, 9.76998704160792e-10, 4.825573274302997e-10, 4.158488664529614e-09, 6.110868699948924e-09, 3.7152086962422004e-10, 2.0313197790500226e-09, 1.2917187319771983e-09, 3.25596744010781e-10, 1.1568913604875775e-09, 2.2029218449404198e-09, 3.654049285373162e-09, 1.4437282480628255e-09, 4.843063172721429e-10, 2.1028332408690176e-09, 7.056769613100755e-10, 6.858687506827721e-10, 2.351060734984145e-10, 0.0, 2.3236926272041103e-10, 1.5729937352659817e-09, 4.4187595249489675e-10, 6.548633857406116e-10, 1.262468796170424e-09, 1.8591380657184686e-09, 1.8521012501437895e-09, 0.0, 3.821222505084876e-10, 1.793118847848163e-10, 6.953358444583557e-10, 1.8070822616067517e-09, 3.8480569841681245e-09, 1.2298789764386697e-09, 1.453305253917847e-09, 2.690543898786757e-10, 8.280721108810951e-10, 1.2530493309625967e-09, 3.811800042274882e-10, 4.74306038888983e-10, 5.751255582886472e-10, 3.2662117455117823e-10, 1.4839998119242637e-09, 3.0367586223434273e-10, 5.714448914062586e-10, 3.402514103800769e-10], 'parent': ''}\n"
     ]
    },
    {
     "data": {
      "image/png": "[encoded data removed]",
      "text/plain": [
       "<Figure size 432x288 with 1 Axes>"
      ]
     },
     "metadata": {
      "needs_background": "light"
     },
     "output_type": "display_data"
    }
   ],
   "source": [
    "plot_ngram_count(token='albert einstein')"
   ]
  },
  {
   "cell_type": "code",
   "execution_count": 8,
   "metadata": {},
   "outputs": [],
   "source": [
    "absolute_counts, prob=google_ngram_counts(token='children story', corpus_id=15, smoothing=0, start_year=1800, end_year=2000)"
   ]
  },
  {
   "cell_type": "code",
   "execution_count": 9,
   "metadata": {},
   "outputs": [
    {
     "name": "stdout",
     "output_type": "stream",
     "text": [
      "[0, 0, 0, 0, 0, 0, 0, 0, 0, 0, 0, 0, 0, 0, 0, 0, 0, 0, 0, 0, 0, 0, 0, 0, 0, 0, 0, 0, 0, 0, 0, 0, 0, 0, 1, 0, 0, 0, 2, 0, 0, 0, 0, 0, 0, 0, 0, 0, 0, 0, 0, 0, 0, 0, 0, 0, 0, 0, 0, 0, 0, 0, 0, 0, 0, 0, 0, 0, 0, 0, 0, 0, 0, 0, 0, 0, 0, 0, 0, 1, 1, 0, 0, 0, 0, 0, 0, 0, 0, 0, 0, 0, 0, 0, 0, 0, 0, 0, 0, 0, 0, 0, 4, 0, 0, 0, 0, 8, 0, 0, 0, 0, 0, 5, 0, 0, 0, 2, 0, 0, 4, 0, 0, 4, 0, 0, 0, 1, 0, 2, 1, 9, 9, 1, 0, 0, 0, 0, 0, 0, 0, 0, 2, 0, 1, 1, 1, 1, 0, 1, 3, 0, 0, 1, 0, 2, 0, 1, 1, 1, 0, 0, 2, 0, 4, 1, 1, 1, 2, 1, 4, 4, 1, 2, 3, 3, 1, 2, 7, 1, 0, 7, 7, 2, 2, 3, 0, 4, 18, 4, 9, 5, 9, 4, 6, 17, 5, 5, 5, 13, 11]\n"
     ]
    }
   ],
   "source": [
    "print(absolute_counts)"
   ]
  },
  {
   "cell_type": "code",
   "execution_count": 10,
   "metadata": {},
   "outputs": [
    {
     "name": "stdout",
     "output_type": "stream",
     "text": [
      "[0.0, 0.0, 0.0, 0.0, 0.0, 0.0, 0.0, 0.0, 0.0, 0.0, 0.0, 0.0, 0.0, 0.0, 0.0, 0.0, 0.0, 0.0, 0.0, 0.0, 0.0, 0.0, 0.0, 0.0, 0.0, 0.0, 0.0, 0.0, 0.0, 0.0, 0.0, 0.0, 0.0, 0.0, 3.1800579947116603e-09, 0.0, 0.0, 0.0, 5.3352868789602326e-09, 0.0, 0.0, 0.0, 0.0, 0.0, 0.0, 0.0, 0.0, 0.0, 0.0, 0.0, 0.0, 0.0, 0.0, 0.0, 0.0, 0.0, 0.0, 0.0, 0.0, 0.0, 0.0, 0.0, 0.0, 0.0, 0.0, 0.0, 0.0, 0.0, 0.0, 0.0, 0.0, 0.0, 0.0, 0.0, 0.0, 0.0, 0.0, 0.0, 0.0, 1.4581249541123498e-09, 1.2168005492085854e-09, 0.0, 0.0, 0.0, 0.0, 0.0, 0.0, 0.0, 0.0, 0.0, 0.0, 0.0, 0.0, 0.0, 0.0, 0.0, 0.0, 0.0, 0.0, 0.0, 0.0, 0.0, 2.9077729113424766e-09, 0.0, 0.0, 0.0, 0.0, 5.407942094137752e-09, 0.0, 0.0, 0.0, 0.0, 0.0, 3.511135382439079e-09, 0.0, 0.0, 0.0, 1.610020006204138e-09, 0.0, 0.0, 2.7447366601762724e-09, 0.0, 0.0, 3.312357943485722e-09, 0.0, 0.0, 0.0, 7.841143845332965e-10, 0.0, 1.6521489731857741e-09, 7.659609613241969e-10, 7.247594968617932e-09, 8.117240213323385e-09, 1.0408548467566447e-09, 0.0, 0.0, 0.0, 0.0, 0.0, 0.0, 0.0, 0.0, 1.8226091746953443e-09, 0.0, 1.173419694744382e-09, 1.0293409458128622e-09, 7.924683131932397e-10, 6.883233982790671e-10, 0.0, 5.813521886111062e-10, 1.740657951110336e-09, 0.0, 0.0, 5.995980378870058e-10, 0.0, 1.0888423496169253e-09, 0.0, 4.88499352080396e-10, 4.825573274302997e-10, 4.620543114786102e-10, 0.0, 0.0, 6.771065930166742e-10, 0.0, 1.302386976043124e-09, 2.8922284012189436e-10, 2.7536523061755247e-10, 2.610035243488795e-10, 4.812427678579922e-10, 2.4215315863607145e-10, 9.34592514489907e-10, 9.409025780726665e-10, 2.286229122683281e-10, 4.70212146996829e-10, 7.073167052062956e-10, 6.971078159168087e-10, 2.2471338678720088e-10, 4.4187595249489675e-10, 1.528014603735528e-09, 2.10411466028404e-10, 0.0, 1.4405231452130351e-09, 1.3776415563881983e-09, 3.821222505084876e-10, 3.586237695696326e-10, 5.215018972215546e-10, 0.0, 6.413428677021216e-10, 2.9209625829196284e-09, 5.813221015671388e-10, 1.210744726698465e-09, 6.900601201564882e-10, 1.1277443423551858e-09, 5.08240005636651e-10, 7.114590583334746e-10, 2.0704520320435904e-09, 5.443686057482466e-10, 5.299999328300942e-10, 5.061264185535208e-10, 1.3333714132812702e-09, 1.0207542588958063e-09]\n"
     ]
    }
   ],
   "source": [
    "print(prob)"
   ]
  },
  {
   "cell_type": "code",
   "execution_count": 54,
   "metadata": {},
   "outputs": [
    {
     "name": "stdout",
     "output_type": "stream",
     "text": [
      "{'ngram': 'children story', 'type': 'NGRAM', 'timeseries': [0.0, 0.0, 0.0, 0.0, 0.0, 0.0, 0.0, 0.0, 0.0, 0.0, 0.0, 0.0, 0.0, 0.0, 0.0, 0.0, 0.0, 0.0, 0.0, 0.0, 0.0, 0.0, 0.0, 0.0, 0.0, 0.0, 0.0, 0.0, 0.0, 0.0, 0.0, 0.0, 0.0, 0.0, 3.1800579947116603e-09, 0.0, 0.0, 0.0, 5.3352868789602326e-09, 0.0, 0.0, 0.0, 0.0, 0.0, 0.0, 0.0, 0.0, 0.0, 0.0, 0.0, 0.0, 0.0, 0.0, 0.0, 0.0, 0.0, 0.0, 0.0, 0.0, 0.0, 0.0, 0.0, 0.0, 0.0, 0.0, 0.0, 0.0, 0.0, 0.0, 0.0, 0.0, 0.0, 0.0, 0.0, 0.0, 0.0, 0.0, 0.0, 0.0, 1.4581249541123498e-09, 1.2168005492085854e-09, 0.0, 0.0, 0.0, 0.0, 0.0, 0.0, 0.0, 0.0, 0.0, 0.0, 0.0, 0.0, 0.0, 0.0, 0.0, 0.0, 0.0, 0.0, 0.0, 0.0, 0.0, 2.9077729113424766e-09, 0.0, 0.0, 0.0, 0.0, 5.407942094137752e-09, 0.0, 0.0, 0.0, 0.0, 0.0, 3.511135382439079e-09, 0.0, 0.0, 0.0, 1.610020006204138e-09, 0.0, 0.0, 2.7447366601762724e-09, 0.0, 0.0, 3.312357943485722e-09, 0.0, 0.0, 0.0, 7.841143845332965e-10, 0.0, 1.6521489731857741e-09, 7.659609613241969e-10, 7.247594968617932e-09, 8.117240213323385e-09, 1.0408548467566447e-09, 0.0, 0.0, 0.0, 0.0, 0.0, 0.0, 0.0, 0.0, 1.8226091746953443e-09, 0.0, 1.173419694744382e-09, 1.0293409458128622e-09, 7.924683131932397e-10, 6.883233982790671e-10, 0.0, 5.813521886111062e-10, 1.740657951110336e-09, 0.0, 0.0, 5.995980378870058e-10, 0.0, 1.0888423496169253e-09, 0.0, 4.88499352080396e-10, 4.825573274302997e-10, 4.620543114786102e-10, 0.0, 0.0, 6.771065930166742e-10, 0.0, 1.302386976043124e-09, 2.8922284012189436e-10, 2.7536523061755247e-10, 2.610035243488795e-10, 4.812427678579922e-10, 2.4215315863607145e-10, 9.34592514489907e-10, 9.409025780726665e-10, 2.286229122683281e-10, 4.70212146996829e-10, 7.073167052062956e-10, 6.971078159168087e-10, 2.2471338678720088e-10, 4.4187595249489675e-10, 1.528014603735528e-09, 2.10411466028404e-10, 0.0, 1.4405231452130351e-09, 1.3776415563881983e-09, 3.821222505084876e-10, 3.586237695696326e-10, 5.215018972215546e-10, 0.0, 6.413428677021216e-10, 2.9209625829196284e-09, 5.813221015671388e-10, 1.210744726698465e-09, 6.900601201564882e-10, 1.1277443423551858e-09, 5.08240005636651e-10, 7.114590583334746e-10, 2.0704520320435904e-09, 5.443686057482466e-10, 5.299999328300942e-10, 5.061264185535208e-10, 1.3333714132812702e-09, 1.0207542588958063e-09], 'parent': ''}\n"
     ]
    },
    {
     "data": {
      "image/png": "[encoded data removed]",
      "text/plain": [
       "<Figure size 432x288 with 1 Axes>"
      ]
     },
     "metadata": {
      "needs_background": "light"
     },
     "output_type": "display_data"
    }
   ],
   "source": [
    "plot_ngram_count(token='children story')"
   ]
  },
  {
   "cell_type": "code",
   "execution_count": 12,
   "metadata": {},
   "outputs": [
    {
     "data": {
      "image/png": "[encoded data removed]",
      "text/plain": [
       "<Figure size 432x288 with 1 Axes>"
      ]
     },
     "metadata": {
      "needs_background": "light"
     },
     "output_type": "display_data"
    }
   ],
   "source": [
    "plot_ngram_count(token='rabindranath tagore')"
   ]
  },
  {
   "cell_type": "code",
   "execution_count": 14,
   "metadata": {},
   "outputs": [],
   "source": [
    "absolute_counts, prob=google_ngram_counts(token='rabindranath tagore', corpus_id=15, smoothing=0, start_year=1800, end_year=2020)"
   ]
  },
  {
   "cell_type": "code",
   "execution_count": 15,
   "metadata": {},
   "outputs": [
    {
     "name": "stdout",
     "output_type": "stream",
     "text": [
      "[0.0, 0.0, 0.0, 0.0, 0.0, 0.0, 0.0, 0.0, 0.0, 0.0, 0.0, 0.0, 0.0, 0.0, 0.0, 0.0, 0.0, 0.0, 0.0, 0.0, 0.0, 0.0, 0.0, 0.0, 0.0, 0.0, 0.0, 0.0, 0.0, 0.0, 0.0, 0.0, 0.0, 0.0, 0.0, 0.0, 0.0, 0.0, 0.0, 0.0, 0.0, 0.0, 0.0, 0.0, 0.0, 0.0, 0.0, 0.0, 0.0, 0.0, 0.0, 0.0, 0.0, 0.0, 0.0, 0.0, 0.0, 0.0, 0.0, 0.0, 0.0, 0.0, 0.0, 0.0, 0.0, 0.0, 0.0, 0.0, 0.0, 0.0, 0.0, 0.0, 0.0, 0.0, 0.0, 0.0, 0.0, 0.0, 0.0, 0.0, 0.0, 0.0, 0.0, 0.0, 0.0, 0.0, 0.0, 0.0, 0.0, 0.0, 0.0, 0.0, 0.0, 0.0, 0.0, 0.0, 0.0, 0.0, 0.0, 0.0, 0.0, 0.0, 0.0, 0.0, 0.0, 0.0, 0.0, 0.0, 0.0, 0.0, 0.0, 0.0, 0.0, 0.0, 0.0, 0.0, 1.6200243369013378e-09, 0.0, 0.0, 8.38531355462635e-10, 0.0, 0.0, 0.0, 0.0, 0.0, 0.0, 0.0, 7.841143845332965e-10, 0.0, 0.0, 7.659609613241969e-10, 0.0, 0.0, 2.0817096935132895e-09, 0.0, 0.0, 7.945820668098236e-10, 0.0, 0.0, 0.0, 8.079092950197264e-10, 0.0, 0.0, 0.0, 0.0, 0.0, 0.0, 3.4416169913953354e-09, 0.0, 0.0, 5.802193170367786e-10, 0.0, 0.0, 5.995980378870058e-10, 1.7211456704302464e-09, 5.444211748084626e-10, 0.0, 0.0, 4.825573274302997e-10, 0.0, 8.147825192317271e-10, 3.7152086962422004e-10, 1.3542131860333484e-09, 9.687890489828987e-10, 0.0, 5.784456802437887e-10, 1.1014609224702099e-09, 1.044014097395518e-09, 4.812427678579922e-10, 0.0, 2.3364812862247675e-10, 2.3522564451816663e-10, 4.572458245366562e-10, 1.175530339736497e-09, 1.6504055899702053e-09, 1.1618462858464795e-09, 0.0, 2.6512556594582293e-09, 0.0, 0.0, 0.0, 0.0, 1.9680593266180324e-10, 5.731833896405192e-10, 0.0, 0.0, 1.642802005541455e-10, 1.603357169255304e-10, 3.0746974410966743e-10, 1.453305253917847e-10, 2.690543898786757e-10, 5.520480739207301e-10, 8.771345316738177e-10, 0.0, 1.1857650972224576e-10, 3.450753571776488e-10, 0.0, 2.1199997313203767e-10, 1.0122528509848294e-10, 9.524081523437644e-11, 6.805028207601538e-10, 8.38614178100272e-11, 2.2797030929666562e-10, 2.792257536299303e-10, 6.472208186059092e-11, 1.3197146153665074e-10, 1.866290039176377e-10, 1.7638013272147646e-10, 4.891267391116116e-10, 0.0, 0.0, 0.0, 0.0, 0.0, 0.0, 0.0, 0.0, 0.0, 0.0]\n"
     ]
    }
   ],
   "source": [
    "print(prob)"
   ]
  },
  {
   "cell_type": "code",
   "execution_count": 64,
   "metadata": {},
   "outputs": [
    {
     "name": "stdout",
     "output_type": "stream",
     "text": [
      "{'ngram': 'rabindranath tagore', 'type': 'NGRAM', 'timeseries': [0.0, 0.0, 0.0, 0.0, 0.0, 0.0, 0.0, 0.0, 0.0, 0.0, 0.0, 0.0, 0.0, 0.0, 0.0, 0.0, 0.0, 0.0, 0.0, 0.0, 0.0, 0.0, 0.0, 0.0, 0.0, 0.0, 0.0, 0.0, 0.0, 0.0, 0.0, 0.0, 0.0, 0.0, 0.0, 0.0, 0.0, 0.0, 0.0, 0.0, 0.0, 0.0, 0.0, 0.0, 0.0, 0.0, 0.0, 0.0, 0.0, 0.0, 0.0, 0.0, 0.0, 0.0, 0.0, 0.0, 0.0, 0.0, 0.0, 0.0, 0.0, 0.0, 0.0, 0.0, 0.0, 0.0, 0.0, 0.0, 0.0, 0.0, 0.0, 0.0, 0.0, 0.0, 0.0, 0.0, 0.0, 0.0, 0.0, 0.0, 0.0, 0.0, 0.0, 0.0, 0.0, 0.0, 0.0, 0.0, 0.0, 0.0, 0.0, 0.0, 0.0, 0.0, 0.0, 0.0, 0.0, 0.0, 0.0, 0.0, 0.0, 0.0, 0.0, 0.0, 0.0, 0.0, 0.0, 0.0, 0.0, 0.0, 0.0, 0.0, 0.0, 0.0, 0.0, 0.0, 1.6200243369013378e-09, 0.0, 0.0, 8.38531355462635e-10, 0.0, 0.0, 0.0, 0.0, 0.0, 0.0, 0.0, 7.841143845332965e-10, 0.0, 0.0, 7.659609613241969e-10, 0.0, 0.0, 2.0817096935132895e-09, 0.0, 0.0, 7.945820668098236e-10, 0.0, 0.0, 0.0, 8.079092950197264e-10, 0.0, 0.0, 0.0, 0.0, 0.0, 0.0, 3.4416169913953354e-09, 0.0, 0.0, 5.802193170367786e-10, 0.0, 0.0, 5.995980378870058e-10, 1.7211456704302464e-09, 5.444211748084626e-10, 0.0, 0.0, 4.825573274302997e-10, 0.0, 8.147825192317271e-10, 3.7152086962422004e-10, 1.3542131860333484e-09, 9.687890489828987e-10, 0.0, 5.784456802437887e-10, 1.1014609224702099e-09, 1.044014097395518e-09, 4.812427678579922e-10, 0.0, 2.3364812862247675e-10, 2.3522564451816663e-10, 4.572458245366562e-10, 1.175530339736497e-09, 1.6504055899702053e-09, 1.1618462858464795e-09, 0.0, 2.6512556594582293e-09, 0.0, 0.0, 0.0, 0.0, 1.9680593266180324e-10, 5.731833896405192e-10, 0.0, 0.0, 1.642802005541455e-10, 1.603357169255304e-10, 3.0746974410966743e-10, 1.453305253917847e-10, 2.690543898786757e-10, 5.520480739207301e-10, 8.771345316738177e-10, 0.0, 1.1857650972224576e-10, 3.450753571776488e-10, 0.0, 2.1199997313203767e-10, 1.0122528509848294e-10, 9.524081523437644e-11, 6.805028207601538e-10, 8.38614178100272e-11, 2.2797030929666562e-10, 2.792257536299303e-10, 6.472208186059092e-11, 1.3197146153665074e-10, 1.866290039176377e-10, 1.7638013272147646e-10, 4.891267391116116e-10, 0.0, 0.0, 0.0, 0.0, 0.0, 0.0, 0.0, 0.0, 0.0, 0.0], 'parent': ''}\n"
     ]
    },
    {
     "data": {
      "image/png": "[encoded data removed]",
      "text/plain": [
       "<Figure size 432x288 with 1 Axes>"
      ]
     },
     "metadata": {
      "needs_background": "light"
     },
     "output_type": "display_data"
    }
   ],
   "source": [
    "plot_ngram_count(token='rabindranath tagore', start_year=1800, end_year=2020)"
   ]
  },
  {
   "cell_type": "markdown",
   "metadata": {},
   "source": [
    "<h3> Conditional Bigram Probablity using google ngrams</h3>"
   ]
  },
  {
   "cell_type": "code",
   "execution_count": 71,
   "metadata": {},
   "outputs": [],
   "source": [
    "def bigram_probabllity(token):\n",
    "    fin_prob=0.0\n",
    "    try:\n",
    "        words=token.split(' ')\n",
    "        bi_prob=google_ngram_prob(token)\n",
    "        cntxt_prob=google_ngram_prob(words[0])\n",
    "        fin_prob=bi_prob/cntxt_prob\n",
    "    except Exception as e:\n",
    "        pass\n",
    "    #print(token)\n",
    "    #print(fin_prob)\n",
    "    return fin_prob"
   ]
  },
  {
   "cell_type": "code",
   "execution_count": 72,
   "metadata": {},
   "outputs": [],
   "source": [
    "def bigram_sent_prob(sentence):\n",
    "    words=nltk.word_tokenize(sentence)\n",
    "    total_prob = google_ngram_prob(words[0])\n",
    "    for w1, w2 in nltk.ngrams(words, 2):\n",
    "        total_prob *= bigram_probabllity(w1+\" \"+w2)\n",
    "    return total_prob"
   ]
  },
  {
   "cell_type": "code",
   "execution_count": 73,
   "metadata": {},
   "outputs": [
    {
     "data": {
      "text/plain": [
       "5.932376864194922e-11"
      ]
     },
     "execution_count": 73,
     "metadata": {},
     "output_type": "execute_result"
    }
   ],
   "source": [
    "bigram_sent_prob('children story books')"
   ]
  },
  {
   "cell_type": "markdown",
   "metadata": {},
   "source": [
    "<h3> Conditional trigram Probality using google ngrams </h3>"
   ]
  },
  {
   "cell_type": "code",
   "execution_count": 87,
   "metadata": {},
   "outputs": [],
   "source": [
    "def trigram_probablity(token):\n",
    "    fin_prob=0.0\n",
    "    try:\n",
    "        words=token.split(' ')\n",
    "        tri_prob=google_ngram_prob(token)\n",
    "        cntxt_prob=google_ngram_prob(words[0]+\" \"+words[1])\n",
    "        fin_prob=tri_prob/cntxt_prob\n",
    "    except Exception as e:\n",
    "        pass\n",
    "    #print(token)\n",
    "    #print(fin_prob)\n",
    "    return fin_prob"
   ]
  },
  {
   "cell_type": "code",
   "execution_count": 88,
   "metadata": {},
   "outputs": [
    {
     "name": "stdout",
     "output_type": "stream",
     "text": [
      "Ngram not available\n"
     ]
    },
    {
     "data": {
      "text/plain": [
       "0.0"
      ]
     },
     "execution_count": 88,
     "metadata": {},
     "output_type": "execute_result"
    }
   ],
   "source": [
    "trigram_probablity('')"
   ]
  },
  {
   "cell_type": "code",
   "execution_count": 74,
   "metadata": {},
   "outputs": [],
   "source": [
    "def trigram_sent_prob(sentence):\n",
    "    words=nltk.word_tokenize(sentence)\n",
    "    total_prob = google_ngram_prob(words[0]) * google_ngram_prob(words[0]+\" \"+words[1])\n",
    "    for w1, w2, w3 in nltk.ngrams(words, 3):\n",
    "        total_prob *= trigram_probablity(w1+\" \"+w2+\" \"+w3)\n",
    "    return total_prob"
   ]
  },
  {
   "cell_type": "code",
   "execution_count": 89,
   "metadata": {},
   "outputs": [
    {
     "data": {
      "text/plain": [
       "3.5682806490590103e-10"
      ]
     },
     "execution_count": 89,
     "metadata": {},
     "output_type": "execute_result"
    }
   ],
   "source": [
    "trigram_sent_prob('this is a very beautiful landscape')"
   ]
  },
  {
   "cell_type": "code",
   "execution_count": 83,
   "metadata": {},
   "outputs": [],
   "source": [
    "#plot_ngram_count(token='')"
   ]
  },
  {
   "cell_type": "code",
   "execution_count": null,
   "metadata": {},
   "outputs": [],
   "source": []
  }
 ],
 "metadata": {
  "kernelspec": {
   "display_name": "Python 3",
   "language": "python",
   "name": "python3"
  },
  "language_info": {
   "codemirror_mode": {
    "name": "ipython",
    "version": 3
   },
   "file_extension": ".py",
   "mimetype": "text/x-python",
   "name": "python",
   "nbconvert_exporter": "python",
   "pygments_lexer": "ipython3",
   "version": "3.6.9"
  }
 },
 "nbformat": 4,
 "nbformat_minor": 4
}
