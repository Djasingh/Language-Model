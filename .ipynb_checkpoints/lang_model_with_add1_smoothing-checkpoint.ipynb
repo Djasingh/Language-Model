{
 "cells": [
  {
   "cell_type": "markdown",
   "metadata": {},
   "source": [
    "<h1> Language Model with Add1-Smoothing (Laplace smoothing)</h1>\n",
    "\n",
    "\\begin{align*}\n",
    "P(w_i|w_{i-1})=\\frac{1+c(w_{i-1},w_i)}{c(w_i,*)+|v|}\n",
    "\\end{align*}\n",
    "<p>$v$ = vocabulary size <br>\n",
    "$c(x)$ = count of $x$ in corpus</p>"
   ]
  },
  {
   "cell_type": "markdown",
   "metadata": {},
   "source": [
    "<p> <code>Note:<code> If any changes you make in <code>language_model.ipynb<code>. \n",
    "In order to changes to reflect in this or any notebook that imported the file <code>language_model.ipynb<code>, \n",
    "you must restart the Kernel from the Kernel Tab Available above.<\\p>"
   ]
  },
  {
   "cell_type": "code",
   "execution_count": null,
   "metadata": {},
   "outputs": [],
   "source": [
    "%%capture\n",
    "import import_ipynb\n",
    "from language_model import *"
   ]
  },
  {
   "cell_type": "markdown",
   "metadata": {},
   "source": [
    "# Wikipedia articles"
   ]
  },
  {
   "cell_type": "code",
   "execution_count": null,
   "metadata": {},
   "outputs": [],
   "source": [
    "filenames=read_filename('./wikipedia/', 100)"
   ]
  },
  {
   "cell_type": "code",
   "execution_count": 4,
   "metadata": {},
   "outputs": [],
   "source": [
    "sents=create_tokens(filenames)"
   ]
  },
  {
   "cell_type": "code",
   "execution_count": 5,
   "metadata": {},
   "outputs": [],
   "source": [
    "train_corpus, test_corpus=train_test_split(sents)"
   ]
  },
  {
   "cell_type": "markdown",
   "metadata": {},
   "source": [
    "<h3>Obtaining probality distribution with Add1 smoothing for Unigrams</h3>"
   ]
  },
  {
   "cell_type": "code",
   "execution_count": 6,
   "metadata": {},
   "outputs": [],
   "source": [
    "fd_1gram=ngram_freq_dist(train_corpus, ngram=1)\n",
    "cpd_1gram_with_add1=nltk.LaplaceProbDist(fd_1gram) #Obtaining probality distribution with Add1 \n",
    "#smoothing for unigram"
   ]
  },
  {
   "cell_type": "code",
   "execution_count": 7,
   "metadata": {},
   "outputs": [],
   "source": [
    "vocab=len(fd_1gram) #vocabulary size"
   ]
  },
  {
   "cell_type": "markdown",
   "metadata": {},
   "source": [
    "<h3>Obtaining conditional probality distribution with Add1 smoothing for Bigrams</h3>"
   ]
  },
  {
   "cell_type": "code",
   "execution_count": 8,
   "metadata": {},
   "outputs": [],
   "source": [
    "cfd_2gram=ngram_freq_dist(train_corpus, ngram=2)\n",
    "cpd_2gram_with_add1 = nltk.ConditionalProbDist(cfd_2gram, nltk.LaplaceProbDist, bins=pow(vocab,2))"
   ]
  },
  {
   "cell_type": "code",
   "execution_count": 9,
   "metadata": {},
   "outputs": [],
   "source": [
    "#cpd_2gram_with_add1 = nltk.ConditionalProbDist(cfd_2gram, nltk.SimpleGoodTuringProbDist, bins=pow(vocab,2))"
   ]
  },
  {
   "cell_type": "code",
   "execution_count": 10,
   "metadata": {},
   "outputs": [],
   "source": [
    "#dict(cpd_2gram_with_add1['azerbaijan'].freqdist())"
   ]
  },
  {
   "cell_type": "markdown",
   "metadata": {},
   "source": [
    "<h3>Obtaining conditional probality distribution with Add1 smoothing for Trigrams</h3>"
   ]
  },
  {
   "cell_type": "code",
   "execution_count": 11,
   "metadata": {},
   "outputs": [],
   "source": [
    "cfd_3gram=ngram_freq_dist(train_corpus, ngram=3)\n",
    "cpd_3gram_with_add1 = nltk.ConditionalProbDist(cfd_3gram, nltk.LaplaceProbDist,bins=pow(vocab,3))"
   ]
  },
  {
   "cell_type": "code",
   "execution_count": 12,
   "metadata": {},
   "outputs": [
    {
     "data": {
      "image/png": "[encoded data removed]",
      "text/plain": [
       "<Figure size 1080x432 with 1 Axes>"
      ]
     },
     "metadata": {
      "needs_background": "light"
     },
     "output_type": "display_data"
    }
   ],
   "source": [
    "pws_2gram=probable_words('the world health organization', cpd_2gram_with_add1, 2)"
   ]
  },
  {
   "cell_type": "code",
   "execution_count": 13,
   "metadata": {},
   "outputs": [
    {
     "data": {
      "image/png": "[encoded data removed]",
      "text/plain": [
       "<Figure size 1080x432 with 1 Axes>"
      ]
     },
     "metadata": {
      "needs_background": "light"
     },
     "output_type": "display_data"
    }
   ],
   "source": [
    "pws_3gram=probable_words('the world', cpd_3gram_with_add1, 3)"
   ]
  },
  {
   "cell_type": "code",
   "execution_count": 14,
   "metadata": {},
   "outputs": [
    {
     "data": {
      "text/plain": [
       "[('largest', 2),\n",
       " ('is', 2),\n",
       " ('the', 2),\n",
       " ('after', 1),\n",
       " ('oldest', 1),\n",
       " ('by', 1),\n",
       " ('come', 1),\n",
       " ('busiest', 1),\n",
       " ('thereby', 1),\n",
       " ('cost', 1),\n",
       " ('there', 1),\n",
       " ('at', 1)]"
      ]
     },
     "execution_count": 14,
     "metadata": {},
     "output_type": "execute_result"
    }
   ],
   "source": [
    "pws_3gram"
   ]
  },
  {
   "cell_type": "code",
   "execution_count": 15,
   "metadata": {},
   "outputs": [],
   "source": [
    "test_sent1='iran has an embassy in baku'\n",
    "test_sent2='iran embassy has an in baku'"
   ]
  },
  {
   "cell_type": "code",
   "execution_count": 16,
   "metadata": {},
   "outputs": [
    {
     "name": "stdout",
     "output_type": "stream",
     "text": [
      "2.0617804029242123e-16\n"
     ]
    }
   ],
   "source": [
    "prob_1gram=find_sent_prob(test_sent2, cpd_1gram_with_add1)\n",
    "print(prob_1gram)"
   ]
  },
  {
   "cell_type": "code",
   "execution_count": 17,
   "metadata": {},
   "outputs": [
    {
     "name": "stdout",
     "output_type": "stream",
     "text": [
      "1.8515908984464172e-35\n"
     ]
    }
   ],
   "source": [
    "prob_2gram=find_sent_prob(test_sent2, cpd_2gram_with_add1, 2)\n",
    "print(prob_2gram)"
   ]
  },
  {
   "cell_type": "code",
   "execution_count": 18,
   "metadata": {},
   "outputs": [
    {
     "name": "stdout",
     "output_type": "stream",
     "text": [
      "5.277836655032357e-41\n"
     ]
    }
   ],
   "source": [
    "prob_3gram=find_sent_prob(test_sent1, cpd_3gram_with_add1, 3)\n",
    "print(prob_3gram)"
   ]
  },
  {
   "cell_type": "code",
   "execution_count": 19,
   "metadata": {},
   "outputs": [
    {
     "data": {
      "text/plain": [
       "0.024712905133839225"
      ]
     },
     "execution_count": 19,
     "metadata": {},
     "output_type": "execute_result"
    }
   ],
   "source": [
    "entropy(cpd_1gram_with_add1, test_corpus, 1)"
   ]
  },
  {
   "cell_type": "code",
   "execution_count": 20,
   "metadata": {},
   "outputs": [
    {
     "data": {
      "text/plain": [
       "4.041556397371984e-06"
      ]
     },
     "execution_count": 20,
     "metadata": {},
     "output_type": "execute_result"
    }
   ],
   "source": [
    "entropy(cpd_2gram_with_add1, test_corpus, 2)"
   ]
  },
  {
   "cell_type": "code",
   "execution_count": 21,
   "metadata": {},
   "outputs": [
    {
     "data": {
      "text/plain": [
       "1.393291942990113e-10"
      ]
     },
     "execution_count": 21,
     "metadata": {},
     "output_type": "execute_result"
    }
   ],
   "source": [
    "entropy(cpd_3gram_with_add1, test_corpus, 3)"
   ]
  },
  {
   "cell_type": "code",
   "execution_count": 22,
   "metadata": {},
   "outputs": [
    {
     "data": {
      "text/plain": [
       "1.0172772348095243"
      ]
     },
     "execution_count": 22,
     "metadata": {},
     "output_type": "execute_result"
    }
   ],
   "source": [
    "perplexity(cpd_1gram_with_add1, test_corpus, 1)"
   ]
  },
  {
   "cell_type": "code",
   "execution_count": 23,
   "metadata": {},
   "outputs": [
    {
     "data": {
      "text/plain": [
       "1.0000028013973459"
      ]
     },
     "execution_count": 23,
     "metadata": {},
     "output_type": "execute_result"
    }
   ],
   "source": [
    "perplexity(cpd_2gram_with_add1, test_corpus, 2)"
   ]
  },
  {
   "cell_type": "code",
   "execution_count": 24,
   "metadata": {},
   "outputs": [
    {
     "data": {
      "text/plain": [
       "1.0000000000965756"
      ]
     },
     "execution_count": 24,
     "metadata": {},
     "output_type": "execute_result"
    }
   ],
   "source": [
    "perplexity(cpd_3gram_with_add1, test_corpus, 3)"
   ]
  },
  {
   "cell_type": "code",
   "execution_count": 25,
   "metadata": {},
   "outputs": [],
   "source": [
    "text_wiki=generate_txt_bigram_model(cpd_2gram_with_add1, 'the', numwords=10)"
   ]
  },
  {
   "cell_type": "markdown",
   "metadata": {},
   "source": [
    "# NLTK Brown Corpus"
   ]
  },
  {
   "cell_type": "code",
   "execution_count": 26,
   "metadata": {},
   "outputs": [],
   "source": [
    "#nltk.corpus.brown.categories()"
   ]
  },
  {
   "cell_type": "code",
   "execution_count": 27,
   "metadata": {},
   "outputs": [],
   "source": [
    "text=nltk_brown_corpus()"
   ]
  },
  {
   "cell_type": "code",
   "execution_count": 28,
   "metadata": {},
   "outputs": [],
   "source": [
    "sents=create_tokens(text)\n",
    "train_corpus, test_corpus=train_test_split(sents)"
   ]
  },
  {
   "cell_type": "code",
   "execution_count": 29,
   "metadata": {},
   "outputs": [],
   "source": [
    "fd_1gram=ngram_freq_dist(train_corpus, ngram=1)\n",
    "cpd_1gram_with_add1=nltk.LaplaceProbDist(fd_1gram)\n",
    "vocab=len(fd_1gram)\n",
    "cfd_2gram=ngram_freq_dist(train_corpus, ngram=2)\n",
    "cpd_2gram_with_add1 = nltk.ConditionalProbDist(cfd_2gram, nltk.LaplaceProbDist, bins=pow(vocab,2))\n",
    "\n",
    "cfd_3gram=ngram_freq_dist(train_corpus, ngram=3)\n",
    "cpd_3gram_with_add1 = nltk.ConditionalProbDist(cfd_3gram, nltk.LaplaceProbDist, bins=pow(vocab,3))"
   ]
  },
  {
   "cell_type": "code",
   "execution_count": 30,
   "metadata": {},
   "outputs": [
    {
     "data": {
      "image/png": "[encoded data removed]",
      "text/plain": [
       "<Figure size 1080x432 with 1 Axes>"
      ]
     },
     "metadata": {
      "needs_background": "light"
     },
     "output_type": "display_data"
    },
    {
     "data": {
      "image/png": "[encoded data removed]",
      "text/plain": [
       "<Figure size 1080x432 with 1 Axes>"
      ]
     },
     "metadata": {
      "needs_background": "light"
     },
     "output_type": "display_data"
    }
   ],
   "source": [
    "pws_2gram=probable_words('the world health organization', cpd_2gram_with_add1, 2)\n",
    "\n",
    "pws_3gram=probable_words('the world', cpd_3gram, 3)"
   ]
  },
  {
   "cell_type": "code",
   "execution_count": 31,
   "metadata": {},
   "outputs": [
    {
     "name": "stdout",
     "output_type": "stream",
     "text": [
      "1.4787302577703486e-21\n",
      "2.336455769663459e-41\n",
      "7.603991570541507e-50\n"
     ]
    }
   ],
   "source": [
    "test_sent1='iran has an embassy in baku'\n",
    "test_sent2='iran embassy has an in baku'\n",
    "\n",
    "prob_1gram=find_sent_prob(test_sent1, cpd_1gram_with_add1)\n",
    "print(prob_1gram)\n",
    "\n",
    "prob_2gram=find_sent_prob(test_sent2, cpd_2gram_with_add1, 2)\n",
    "print(prob_2gram)\n",
    "\n",
    "prob_3gram=find_sent_prob(test_sent1, cpd_3gram_with_add1, 3)\n",
    "print(prob_3gram)"
   ]
  },
  {
   "cell_type": "code",
   "execution_count": 32,
   "metadata": {},
   "outputs": [
    {
     "name": "stdout",
     "output_type": "stream",
     "text": [
      "0.04141585679273082\n",
      "2.451632026562318e-06\n",
      "2.537860262919504e-11\n",
      "1.029123309900174\n",
      "1.0000016993432708\n",
      "1.000000000017591\n"
     ]
    }
   ],
   "source": [
    "print(entropy(cpd_1gram_with_add1, test_corpus, 1))\n",
    "\n",
    "print(entropy(cpd_2gram_with_add1, test_corpus, 2))\n",
    "\n",
    "print(entropy(cpd_3gram_with_add1, test_corpus, 3))\n",
    "\n",
    "print(perplexity(cpd_1gram_with_add1, test_corpus, 1))\n",
    "\n",
    "print(perplexity(cpd_2gram_with_add1, test_corpus, 2))\n",
    "\n",
    "print(perplexity(cpd_3gram_with_add1, test_corpus, 3))"
   ]
  },
  {
   "cell_type": "code",
   "execution_count": 33,
   "metadata": {},
   "outputs": [],
   "source": [
    "text_brown=generate_txt_bigram_model(cpd_2gram_with_add1, 'the', numwords=10)"
   ]
  },
  {
   "cell_type": "code",
   "execution_count": 34,
   "metadata": {},
   "outputs": [
    {
     "data": {
      "text/plain": [
       "'the coaches seek mergers at 125 and suspected collaborators a 21-2'"
      ]
     },
     "execution_count": 34,
     "metadata": {},
     "output_type": "execute_result"
    }
   ],
   "source": [
    "text_brown"
   ]
  }
 ],
 "metadata": {
  "kernelspec": {
   "display_name": "Python 3",
   "language": "python",
   "name": "python3"
  },
  "language_info": {
   "codemirror_mode": {
    "name": "ipython",
    "version": 3
   },
   "file_extension": ".py",
   "mimetype": "text/x-python",
   "name": "python",
   "nbconvert_exporter": "python",
   "pygments_lexer": "ipython3",
   "version": "3.6.9"
  }
 },
 "nbformat": 4,
 "nbformat_minor": 4
}
