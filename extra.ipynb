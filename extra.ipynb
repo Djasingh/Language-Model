{
 "cells": [
  {
   "cell_type": "code",
   "execution_count": 1,
   "metadata": {},
   "outputs": [],
   "source": [
    "text='''A simple sentence in grammar has only one main or independent clause and no dependent or subordinate clauses. \n",
    "Comprising a subject and a predicate, this short and independent syntactic entity intends to convey a complete idea or meanings \n",
    "of an idea. A simple sentence is also known as a clausal sentence. It may have a modifier besides a subject, verb, and object. \n",
    "Though it is simple, sometimes it can have compound verbs and compound subjects. It may or may not use commas but it stays \n",
    "simple in construction. For instance, “Studies serve for delight, for ornament, and for ability.” The pen is mightier than the \n",
    "sword. Alice everyday goes to library to study.\n",
    "Perhaps the decline of this country has already started.\n",
    "The management of your company has executed its duties excellently.\n",
    "People who live in glass houses should not throw stones.\n",
    "They have lost thousands of jobs to Asia, South America, and Mexico.'''"
   ]
  },
  {
   "cell_type": "code",
   "execution_count": 12,
   "metadata": {},
   "outputs": [],
   "source": [
    "tst_sents=create_tokens(text)"
   ]
  },
  {
   "cell_type": "code",
   "execution_count": 13,
   "metadata": {},
   "outputs": [
    {
     "data": {
      "text/plain": [
       "12"
      ]
     },
     "execution_count": 13,
     "metadata": {},
     "output_type": "execute_result"
    }
   ],
   "source": [
    "len(tst_sents)"
   ]
  },
  {
   "cell_type": "code",
   "execution_count": 22,
   "metadata": {},
   "outputs": [],
   "source": []
  },
  {
   "cell_type": "code",
   "execution_count": 23,
   "metadata": {},
   "outputs": [
    {
     "name": "stdout",
     "output_type": "stream",
     "text": [
      "@@@@@@@@@@@@@@@@@@@@\n",
      "[['A', 'simple', 'sentence', 'is', 'also', 'known', 'as', 'a', 'clausal', 'sentence'], ['It', 'may', 'have', 'a', 'modifier', 'besides', 'a', 'subject', 'verb', 'and', 'object'], ['Though', 'it', 'is', 'simple', 'sometimes', 'it', 'can', 'have', 'compound', 'verbs', 'and', 'compound', 'subjects'], ['It', 'may', 'or', 'may', 'not', 'use', 'commas', 'but', 'it', 'stays', 'simple', 'in', 'construction'], ['For', 'instance', '“', 'Studies', 'serve', 'for', 'delight', 'for', 'ornament', 'and', 'for', 'ability.', '”', 'The', 'pen', 'is', 'mightier', 'than', 'the', 'sword'], ['Alice', 'everyday', 'goes', 'to', 'library', 'to', 'study'], ['Perhaps', 'the', 'decline', 'of', 'this', 'country', 'has', 'already', 'started'], ['The', 'management', 'of', 'your', 'company', 'has', 'executed', 'its', 'duties', 'excellently'], ['People', 'who', 'live', 'in', 'glass', 'houses', 'should', 'not', 'throw', 'stones'], ['They', 'have', 'lost', 'thousands', 'of', 'jobs', 'to', 'Asia', 'South', 'America', 'and', 'Mexico']]\n",
      "====================\n",
      "[['A', 'simple', 'sentence', 'in', 'grammar', 'has', 'only', 'one', 'main', 'or', 'independent', 'clause', 'and', 'no', 'dependent', 'or', 'subordinate', 'clauses'], ['Comprising', 'a', 'subject', 'and', 'a', 'predicate', 'this', 'short', 'and', 'independent', 'syntactic', 'entity', 'intends', 'to', 'convey', 'a', 'complete', 'idea', 'or', 'meanings', 'of', 'an', 'idea']]\n",
      "********************\n",
      "@@@@@@@@@@@@@@@@@@@@\n",
      "[['A', 'simple', 'sentence', 'in', 'grammar', 'has', 'only', 'one', 'main', 'or', 'independent', 'clause', 'and', 'no', 'dependent', 'or', 'subordinate', 'clauses'], ['Comprising', 'a', 'subject', 'and', 'a', 'predicate', 'this', 'short', 'and', 'independent', 'syntactic', 'entity', 'intends', 'to', 'convey', 'a', 'complete', 'idea', 'or', 'meanings', 'of', 'an', 'idea'], ['Though', 'it', 'is', 'simple', 'sometimes', 'it', 'can', 'have', 'compound', 'verbs', 'and', 'compound', 'subjects'], ['It', 'may', 'or', 'may', 'not', 'use', 'commas', 'but', 'it', 'stays', 'simple', 'in', 'construction'], ['For', 'instance', '“', 'Studies', 'serve', 'for', 'delight', 'for', 'ornament', 'and', 'for', 'ability.', '”', 'The', 'pen', 'is', 'mightier', 'than', 'the', 'sword'], ['Alice', 'everyday', 'goes', 'to', 'library', 'to', 'study'], ['Perhaps', 'the', 'decline', 'of', 'this', 'country', 'has', 'already', 'started'], ['The', 'management', 'of', 'your', 'company', 'has', 'executed', 'its', 'duties', 'excellently'], ['People', 'who', 'live', 'in', 'glass', 'houses', 'should', 'not', 'throw', 'stones'], ['They', 'have', 'lost', 'thousands', 'of', 'jobs', 'to', 'Asia', 'South', 'America', 'and', 'Mexico']]\n",
      "====================\n",
      "[['A', 'simple', 'sentence', 'is', 'also', 'known', 'as', 'a', 'clausal', 'sentence'], ['It', 'may', 'have', 'a', 'modifier', 'besides', 'a', 'subject', 'verb', 'and', 'object']]\n",
      "********************\n",
      "@@@@@@@@@@@@@@@@@@@@\n",
      "[['A', 'simple', 'sentence', 'in', 'grammar', 'has', 'only', 'one', 'main', 'or', 'independent', 'clause', 'and', 'no', 'dependent', 'or', 'subordinate', 'clauses'], ['Comprising', 'a', 'subject', 'and', 'a', 'predicate', 'this', 'short', 'and', 'independent', 'syntactic', 'entity', 'intends', 'to', 'convey', 'a', 'complete', 'idea', 'or', 'meanings', 'of', 'an', 'idea'], ['A', 'simple', 'sentence', 'is', 'also', 'known', 'as', 'a', 'clausal', 'sentence'], ['It', 'may', 'have', 'a', 'modifier', 'besides', 'a', 'subject', 'verb', 'and', 'object'], ['For', 'instance', '“', 'Studies', 'serve', 'for', 'delight', 'for', 'ornament', 'and', 'for', 'ability.', '”', 'The', 'pen', 'is', 'mightier', 'than', 'the', 'sword'], ['Alice', 'everyday', 'goes', 'to', 'library', 'to', 'study'], ['Perhaps', 'the', 'decline', 'of', 'this', 'country', 'has', 'already', 'started'], ['The', 'management', 'of', 'your', 'company', 'has', 'executed', 'its', 'duties', 'excellently'], ['People', 'who', 'live', 'in', 'glass', 'houses', 'should', 'not', 'throw', 'stones'], ['They', 'have', 'lost', 'thousands', 'of', 'jobs', 'to', 'Asia', 'South', 'America', 'and', 'Mexico']]\n",
      "====================\n",
      "[['Though', 'it', 'is', 'simple', 'sometimes', 'it', 'can', 'have', 'compound', 'verbs', 'and', 'compound', 'subjects'], ['It', 'may', 'or', 'may', 'not', 'use', 'commas', 'but', 'it', 'stays', 'simple', 'in', 'construction']]\n",
      "********************\n",
      "@@@@@@@@@@@@@@@@@@@@\n",
      "[['A', 'simple', 'sentence', 'in', 'grammar', 'has', 'only', 'one', 'main', 'or', 'independent', 'clause', 'and', 'no', 'dependent', 'or', 'subordinate', 'clauses'], ['Comprising', 'a', 'subject', 'and', 'a', 'predicate', 'this', 'short', 'and', 'independent', 'syntactic', 'entity', 'intends', 'to', 'convey', 'a', 'complete', 'idea', 'or', 'meanings', 'of', 'an', 'idea'], ['A', 'simple', 'sentence', 'is', 'also', 'known', 'as', 'a', 'clausal', 'sentence'], ['It', 'may', 'have', 'a', 'modifier', 'besides', 'a', 'subject', 'verb', 'and', 'object'], ['Though', 'it', 'is', 'simple', 'sometimes', 'it', 'can', 'have', 'compound', 'verbs', 'and', 'compound', 'subjects'], ['It', 'may', 'or', 'may', 'not', 'use', 'commas', 'but', 'it', 'stays', 'simple', 'in', 'construction'], ['Perhaps', 'the', 'decline', 'of', 'this', 'country', 'has', 'already', 'started'], ['The', 'management', 'of', 'your', 'company', 'has', 'executed', 'its', 'duties', 'excellently'], ['People', 'who', 'live', 'in', 'glass', 'houses', 'should', 'not', 'throw', 'stones'], ['They', 'have', 'lost', 'thousands', 'of', 'jobs', 'to', 'Asia', 'South', 'America', 'and', 'Mexico']]\n",
      "====================\n",
      "[['For', 'instance', '“', 'Studies', 'serve', 'for', 'delight', 'for', 'ornament', 'and', 'for', 'ability.', '”', 'The', 'pen', 'is', 'mightier', 'than', 'the', 'sword'], ['Alice', 'everyday', 'goes', 'to', 'library', 'to', 'study']]\n",
      "********************\n",
      "@@@@@@@@@@@@@@@@@@@@\n",
      "[['A', 'simple', 'sentence', 'in', 'grammar', 'has', 'only', 'one', 'main', 'or', 'independent', 'clause', 'and', 'no', 'dependent', 'or', 'subordinate', 'clauses'], ['Comprising', 'a', 'subject', 'and', 'a', 'predicate', 'this', 'short', 'and', 'independent', 'syntactic', 'entity', 'intends', 'to', 'convey', 'a', 'complete', 'idea', 'or', 'meanings', 'of', 'an', 'idea'], ['A', 'simple', 'sentence', 'is', 'also', 'known', 'as', 'a', 'clausal', 'sentence'], ['It', 'may', 'have', 'a', 'modifier', 'besides', 'a', 'subject', 'verb', 'and', 'object'], ['Though', 'it', 'is', 'simple', 'sometimes', 'it', 'can', 'have', 'compound', 'verbs', 'and', 'compound', 'subjects'], ['It', 'may', 'or', 'may', 'not', 'use', 'commas', 'but', 'it', 'stays', 'simple', 'in', 'construction'], ['For', 'instance', '“', 'Studies', 'serve', 'for', 'delight', 'for', 'ornament', 'and', 'for', 'ability.', '”', 'The', 'pen', 'is', 'mightier', 'than', 'the', 'sword'], ['Alice', 'everyday', 'goes', 'to', 'library', 'to', 'study'], ['People', 'who', 'live', 'in', 'glass', 'houses', 'should', 'not', 'throw', 'stones'], ['They', 'have', 'lost', 'thousands', 'of', 'jobs', 'to', 'Asia', 'South', 'America', 'and', 'Mexico']]\n",
      "====================\n",
      "[['Perhaps', 'the', 'decline', 'of', 'this', 'country', 'has', 'already', 'started'], ['The', 'management', 'of', 'your', 'company', 'has', 'executed', 'its', 'duties', 'excellently']]\n",
      "********************\n"
     ]
    }
   ],
   "source": [
    "for a,b in cross_validation(tst_sents):\n",
    "    print('@'* 20)\n",
    "    print(a)\n",
    "    print('='* 20)\n",
    "    print(b)\n",
    "    print('*'* 20)"
   ]
  }
 ],
 "metadata": {
  "kernelspec": {
   "display_name": "Python 3",
   "language": "python",
   "name": "python3"
  },
  "language_info": {
   "codemirror_mode": {
    "name": "ipython",
    "version": 3
   },
   "file_extension": ".py",
   "mimetype": "text/x-python",
   "name": "python",
   "nbconvert_exporter": "python",
   "pygments_lexer": "ipython3",
   "version": "3.6.9"
  }
 },
 "nbformat": 4,
 "nbformat_minor": 4
}
